{
 "cells": [
  {
   "cell_type": "code",
   "execution_count": 1,
   "metadata": {},
   "outputs": [],
   "source": [
    "#create autograd"
   ]
  },
  {
   "cell_type": "code",
   "execution_count": 2,
   "metadata": {},
   "outputs": [],
   "source": [
    "import numpy as np\n",
    "import math\n",
    "import matplotlib.pyplot as plt"
   ]
  },
  {
   "cell_type": "code",
   "execution_count": 3,
   "metadata": {},
   "outputs": [],
   "source": [
    "def f(x):\n",
    "    return 3*x**2 - 4 * x + 5 "
   ]
  },
  {
   "cell_type": "code",
   "execution_count": 4,
   "metadata": {},
   "outputs": [
    {
     "data": {
      "text/plain": [
       "20"
      ]
     },
     "execution_count": 4,
     "metadata": {},
     "output_type": "execute_result"
    }
   ],
   "source": [
    "f(3)"
   ]
  },
  {
   "cell_type": "code",
   "execution_count": 5,
   "metadata": {},
   "outputs": [
    {
     "data": {
      "text/plain": [
       "array([100.    ,  91.6875,  83.75  ,  76.1875,  69.    ,  62.1875,\n",
       "        55.75  ,  49.6875,  44.    ,  38.6875,  33.75  ,  29.1875,\n",
       "        25.    ,  21.1875,  17.75  ,  14.6875,  12.    ,   9.6875,\n",
       "         7.75  ,   6.1875,   5.    ,   4.1875,   3.75  ,   3.6875,\n",
       "         4.    ,   4.6875,   5.75  ,   7.1875,   9.    ,  11.1875,\n",
       "        13.75  ,  16.6875,  20.    ,  23.6875,  27.75  ,  32.1875,\n",
       "        37.    ,  42.1875,  47.75  ,  53.6875])"
      ]
     },
     "execution_count": 5,
     "metadata": {},
     "output_type": "execute_result"
    }
   ],
   "source": [
    "xs = np.arange(-5,5,0.25)\n",
    "ys = f(xs)\n",
    "ys"
   ]
  },
  {
   "cell_type": "code",
   "execution_count": 6,
   "metadata": {},
   "outputs": [
    {
     "data": {
      "text/plain": [
       "[<matplotlib.lines.Line2D at 0x7f9921481670>]"
      ]
     },
     "execution_count": 6,
     "metadata": {},
     "output_type": "execute_result"
    },
    {
     "data": {
      "image/png": "[encoded data removed]",
      "text/plain": [
       "<Figure size 432x288 with 1 Axes>"
      ]
     },
     "metadata": {
      "needs_background": "light"
     },
     "output_type": "display_data"
    }
   ],
   "source": [
    "plt.plot(xs,ys)"
   ]
  },
  {
   "cell_type": "code",
   "execution_count": 7,
   "metadata": {},
   "outputs": [
    {
     "data": {
      "text/plain": [
       "-0.04000000330961484"
      ]
     },
     "execution_count": 7,
     "metadata": {},
     "output_type": "execute_result"
    }
   ],
   "source": [
    "h = 1e-8\n",
    "x = 0.66\n",
    "(f(x + h) - f(x))/h"
   ]
  },
  {
   "attachments": {},
   "cell_type": "markdown",
   "metadata": {},
   "source": [
    "LEts get more complex"
   ]
  },
  {
   "cell_type": "code",
   "execution_count": 8,
   "metadata": {},
   "outputs": [
    {
     "data": {
      "text/plain": [
       "4"
      ]
     },
     "execution_count": 8,
     "metadata": {},
     "output_type": "execute_result"
    }
   ],
   "source": [
    "a = 2\n",
    "b = -3\n",
    "c=10\n",
    "d = a*b +c\n",
    "d"
   ]
  },
  {
   "cell_type": "code",
   "execution_count": 9,
   "metadata": {},
   "outputs": [
    {
     "data": {
      "text/plain": [
       "-3.000000000010772"
      ]
     },
     "execution_count": 9,
     "metadata": {},
     "output_type": "execute_result"
    }
   ],
   "source": [
    "h = 0.0001\n",
    "a = 2\n",
    "b = -3\n",
    "c=10\n",
    "d1 = a*b +c\n",
    "a += h\n",
    "d2 = a*b +c\n",
    "\n",
    "slope = (d2-d1)/h\n",
    "slope"
   ]
  },
  {
   "cell_type": "code",
   "execution_count": 10,
   "metadata": {},
   "outputs": [
    {
     "data": {
      "text/plain": [
       "2.0000000000042206"
      ]
     },
     "execution_count": 10,
     "metadata": {},
     "output_type": "execute_result"
    }
   ],
   "source": [
    "h = 0.0001\n",
    "a = 2\n",
    "b = -3\n",
    "c=10\n",
    "d1 = a*b +c\n",
    "b += h\n",
    "d2 = a*b +c\n",
    "\n",
    "slope = (d2-d1)/h\n",
    "slope"
   ]
  },
  {
   "cell_type": "code",
   "execution_count": 11,
   "metadata": {},
   "outputs": [
    {
     "data": {
      "text/plain": [
       "0.9999999999976694"
      ]
     },
     "execution_count": 11,
     "metadata": {},
     "output_type": "execute_result"
    }
   ],
   "source": [
    "h = 0.0001\n",
    "a = 2\n",
    "b = -3\n",
    "c=10\n",
    "d1 = a*b +c\n",
    "c += h\n",
    "d2 = a*b +c\n",
    "\n",
    "slope = (d2-d1)/h\n",
    "slope"
   ]
  },
  {
   "cell_type": "code",
   "execution_count": 12,
   "metadata": {},
   "outputs": [
    {
     "data": {
      "text/plain": [
       "Value(data=-8)"
      ]
     },
     "execution_count": 12,
     "metadata": {},
     "output_type": "execute_result"
    }
   ],
   "source": [
    "from gympy.autograd import Value\n",
    "\n",
    "a = Value(2,label = 'a')\n",
    "b = Value(-3, label = 'b')\n",
    "c = Value(10, label = 'c')\n",
    "e = a*b; e.label='e'\n",
    "d = e + c; d.label = 'd'\n",
    "f = Value(-2, label = 'f')\n",
    "L = d * f; L.label = 'L'\n",
    "L"
   ]
  },
  {
   "cell_type": "code",
   "execution_count": 13,
   "metadata": {},
   "outputs": [
    {
     "data": {
      "image/svg+xml": "<?xml version=\"1.0\" encoding=\"UTF-8\" standalone=\"no\"?>\n<!DOCTYPE svg PUBLIC \"-//W3C//DTD SVG 1.1//EN\"\n \"http://www.w3.org/Graphics/SVG/1.1/DTD/svg11.dtd\">\n<!-- Generated by graphviz version 7.1.0 (20230121.1956)\n -->\n<!-- Pages: 1 -->\n<svg width=\"249pt\" height=\"612pt\"\n viewBox=\"0.00 0.00 249.00 612.00\" xmlns=\"http://www.w3.org/2000/svg\" xmlns:xlink=\"http://www.w3.org/1999/xlink\">\n<g id=\"graph0\" class=\"graph\" transform=\"scale(1 1) rotate(0) translate(4 608)\">\n<polygon fill=\"white\" stroke=\"none\" points=\"-4,4 -4,-608 245,-608 245,4 -4,4\"/>\n<!-- 140295116943808 -->\n<g id=\"node1\" class=\"node\">\n<title>140295116943808</title>\n<polygon fill=\"none\" stroke=\"black\" points=\"1,-178.5 1,-247.5 86,-247.5 86,-178.5 1,-178.5\"/>\n<text text-anchor=\"middle\" x=\"43.5\" y=\"-232.3\" font-family=\"Times,serif\" font-size=\"14.00\">f</text>\n<polyline fill=\"none\" stroke=\"black\" points=\"1,-224.5 86,-224.5\"/>\n<text text-anchor=\"middle\" x=\"43.5\" y=\"-209.3\" font-family=\"Times,serif\" font-size=\"14.00\">data &#45;2.0000</text>\n<polyline fill=\"none\" stroke=\"black\" points=\"1,-201.5 86,-201.5\"/>\n<text text-anchor=\"middle\" x=\"43.5\" y=\"-186.3\" font-family=\"Times,serif\" font-size=\"14.00\">grad 0.0000</text>\n</g>\n<!-- 140295116943856* -->\n<g id=\"node10\" class=\"node\">\n<title>140295116943856*</title>\n<ellipse fill=\"none\" stroke=\"black\" cx=\"94.5\" cy=\"-124\" rx=\"27\" ry=\"18\"/>\n<text text-anchor=\"middle\" x=\"94.5\" y=\"-120.3\" font-family=\"Times,serif\" font-size=\"14.00\">*</text>\n</g>\n<!-- 140295116943808&#45;&gt;140295116943856* -->\n<g id=\"edge9\" class=\"edge\">\n<title>140295116943808&#45;&gt;140295116943856*</title>\n<path fill=\"none\" stroke=\"black\" d=\"M63.07,-178.61C68.42,-169.48 74.15,-159.72 79.22,-151.07\"/>\n<polygon fill=\"black\" stroke=\"black\" points=\"82.22,-152.88 84.25,-142.48 76.18,-149.34 82.22,-152.88\"/>\n</g>\n<!-- 140295664947504 -->\n<g id=\"node2\" class=\"node\">\n<title>140295664947504</title>\n<polygon fill=\"none\" stroke=\"black\" points=\"51,-356.5 51,-425.5 136,-425.5 136,-356.5 51,-356.5\"/>\n<text text-anchor=\"middle\" x=\"93.5\" y=\"-410.3\" font-family=\"Times,serif\" font-size=\"14.00\">e</text>\n<polyline fill=\"none\" stroke=\"black\" points=\"51,-402.5 136,-402.5\"/>\n<text text-anchor=\"middle\" x=\"93.5\" y=\"-387.3\" font-family=\"Times,serif\" font-size=\"14.00\">data &#45;6.0000</text>\n<polyline fill=\"none\" stroke=\"black\" points=\"51,-379.5 136,-379.5\"/>\n<text text-anchor=\"middle\" x=\"93.5\" y=\"-364.3\" font-family=\"Times,serif\" font-size=\"14.00\">grad 0.0000</text>\n</g>\n<!-- 140295116943664+ -->\n<g id=\"node5\" class=\"node\">\n<title>140295116943664+</title>\n<ellipse fill=\"none\" stroke=\"black\" cx=\"145.5\" cy=\"-302\" rx=\"27\" ry=\"18\"/>\n<text text-anchor=\"middle\" x=\"145.5\" y=\"-298.3\" font-family=\"Times,serif\" font-size=\"14.00\">+</text>\n</g>\n<!-- 140295664947504&#45;&gt;140295116943664+ -->\n<g id=\"edge7\" class=\"edge\">\n<title>140295664947504&#45;&gt;140295116943664+</title>\n<path fill=\"none\" stroke=\"black\" d=\"M113.46,-356.61C118.97,-347.38 124.87,-337.51 130.09,-328.78\"/>\n<polygon fill=\"black\" stroke=\"black\" points=\"132.93,-330.85 135.06,-320.47 126.92,-327.26 132.93,-330.85\"/>\n</g>\n<!-- 140295664947504* -->\n<g id=\"node3\" class=\"node\">\n<title>140295664947504*</title>\n<ellipse fill=\"none\" stroke=\"black\" cx=\"93.5\" cy=\"-480\" rx=\"27\" ry=\"18\"/>\n<text text-anchor=\"middle\" x=\"93.5\" y=\"-476.3\" font-family=\"Times,serif\" font-size=\"14.00\">*</text>\n</g>\n<!-- 140295664947504*&#45;&gt;140295664947504 -->\n<g id=\"edge1\" class=\"edge\">\n<title>140295664947504*&#45;&gt;140295664947504</title>\n<path fill=\"none\" stroke=\"black\" d=\"M93.5,-461.81C93.5,-454.5 93.5,-445.6 93.5,-436.63\"/>\n<polygon fill=\"black\" stroke=\"black\" points=\"97,-436.87 93.5,-426.87 90,-436.87 97,-436.87\"/>\n</g>\n<!-- 140295116943664 -->\n<g id=\"node4\" class=\"node\">\n<title>140295116943664</title>\n<polygon fill=\"none\" stroke=\"black\" points=\"104.5,-178.5 104.5,-247.5 186.5,-247.5 186.5,-178.5 104.5,-178.5\"/>\n<text text-anchor=\"middle\" x=\"145.5\" y=\"-232.3\" font-family=\"Times,serif\" font-size=\"14.00\">d</text>\n<polyline fill=\"none\" stroke=\"black\" points=\"104.5,-224.5 186.5,-224.5\"/>\n<text text-anchor=\"middle\" x=\"145.5\" y=\"-209.3\" font-family=\"Times,serif\" font-size=\"14.00\">data 4.0000</text>\n<polyline fill=\"none\" stroke=\"black\" points=\"104.5,-201.5 186.5,-201.5\"/>\n<text text-anchor=\"middle\" x=\"145.5\" y=\"-186.3\" font-family=\"Times,serif\" font-size=\"14.00\">grad 0.0000</text>\n</g>\n<!-- 140295116943664&#45;&gt;140295116943856* -->\n<g id=\"edge6\" class=\"edge\">\n<title>140295116943664&#45;&gt;140295116943856*</title>\n<path fill=\"none\" stroke=\"black\" d=\"M125.93,-178.61C120.58,-169.48 114.85,-159.72 109.78,-151.07\"/>\n<polygon fill=\"black\" stroke=\"black\" points=\"112.82,-149.34 104.75,-142.48 106.78,-152.88 112.82,-149.34\"/>\n</g>\n<!-- 140295116943664+&#45;&gt;140295116943664 -->\n<g id=\"edge2\" class=\"edge\">\n<title>140295116943664+&#45;&gt;140295116943664</title>\n<path fill=\"none\" stroke=\"black\" d=\"M145.5,-283.81C145.5,-276.5 145.5,-267.6 145.5,-258.63\"/>\n<polygon fill=\"black\" stroke=\"black\" points=\"149,-258.87 145.5,-248.87 142,-258.87 149,-258.87\"/>\n</g>\n<!-- 140295112445232 -->\n<g id=\"node6\" class=\"node\">\n<title>140295112445232</title>\n<polygon fill=\"none\" stroke=\"black\" points=\"0,-534.5 0,-603.5 85,-603.5 85,-534.5 0,-534.5\"/>\n<text text-anchor=\"middle\" x=\"42.5\" y=\"-588.3\" font-family=\"Times,serif\" font-size=\"14.00\">b</text>\n<polyline fill=\"none\" stroke=\"black\" points=\"0,-580.5 85,-580.5\"/>\n<text text-anchor=\"middle\" x=\"42.5\" y=\"-565.3\" font-family=\"Times,serif\" font-size=\"14.00\">data &#45;3.0000</text>\n<polyline fill=\"none\" stroke=\"black\" points=\"0,-557.5 85,-557.5\"/>\n<text text-anchor=\"middle\" x=\"42.5\" y=\"-542.3\" font-family=\"Times,serif\" font-size=\"14.00\">grad 0.0000</text>\n</g>\n<!-- 140295112445232&#45;&gt;140295664947504* -->\n<g id=\"edge5\" class=\"edge\">\n<title>140295112445232&#45;&gt;140295664947504*</title>\n<path fill=\"none\" stroke=\"black\" d=\"M62.07,-534.61C67.42,-525.48 73.15,-515.72 78.22,-507.07\"/>\n<polygon fill=\"black\" stroke=\"black\" points=\"81.22,-508.88 83.25,-498.48 75.18,-505.34 81.22,-508.88\"/>\n</g>\n<!-- 140295664384896 -->\n<g id=\"node7\" class=\"node\">\n<title>140295664384896</title>\n<polygon fill=\"none\" stroke=\"black\" points=\"103.5,-534.5 103.5,-603.5 185.5,-603.5 185.5,-534.5 103.5,-534.5\"/>\n<text text-anchor=\"middle\" x=\"144.5\" y=\"-588.3\" font-family=\"Times,serif\" font-size=\"14.00\">a</text>\n<polyline fill=\"none\" stroke=\"black\" points=\"103.5,-580.5 185.5,-580.5\"/>\n<text text-anchor=\"middle\" x=\"144.5\" y=\"-565.3\" font-family=\"Times,serif\" font-size=\"14.00\">data 2.0000</text>\n<polyline fill=\"none\" stroke=\"black\" points=\"103.5,-557.5 185.5,-557.5\"/>\n<text text-anchor=\"middle\" x=\"144.5\" y=\"-542.3\" font-family=\"Times,serif\" font-size=\"14.00\">grad 0.0000</text>\n</g>\n<!-- 140295664384896&#45;&gt;140295664947504* -->\n<g id=\"edge4\" class=\"edge\">\n<title>140295664384896&#45;&gt;140295664947504*</title>\n<path fill=\"none\" stroke=\"black\" d=\"M124.93,-534.61C119.58,-525.48 113.85,-515.72 108.78,-507.07\"/>\n<polygon fill=\"black\" stroke=\"black\" points=\"111.82,-505.34 103.75,-498.48 105.78,-508.88 111.82,-505.34\"/>\n</g>\n<!-- 140295658778048 -->\n<g id=\"node8\" class=\"node\">\n<title>140295658778048</title>\n<polygon fill=\"none\" stroke=\"black\" points=\"154,-356.5 154,-425.5 241,-425.5 241,-356.5 154,-356.5\"/>\n<text text-anchor=\"middle\" x=\"197.5\" y=\"-410.3\" font-family=\"Times,serif\" font-size=\"14.00\">c</text>\n<polyline fill=\"none\" stroke=\"black\" points=\"154,-402.5 241,-402.5\"/>\n<text text-anchor=\"middle\" x=\"197.5\" y=\"-387.3\" font-family=\"Times,serif\" font-size=\"14.00\">data 10.0000</text>\n<polyline fill=\"none\" stroke=\"black\" points=\"154,-379.5 241,-379.5\"/>\n<text text-anchor=\"middle\" x=\"197.5\" y=\"-364.3\" font-family=\"Times,serif\" font-size=\"14.00\">grad 0.0000</text>\n</g>\n<!-- 140295658778048&#45;&gt;140295116943664+ -->\n<g id=\"edge8\" class=\"edge\">\n<title>140295658778048&#45;&gt;140295116943664+</title>\n<path fill=\"none\" stroke=\"black\" d=\"M177.54,-356.61C172.03,-347.38 166.13,-337.51 160.91,-328.78\"/>\n<polygon fill=\"black\" stroke=\"black\" points=\"164.08,-327.26 155.94,-320.47 158.07,-330.85 164.08,-327.26\"/>\n</g>\n<!-- 140295116943856 -->\n<g id=\"node9\" class=\"node\">\n<title>140295116943856</title>\n<polygon fill=\"none\" stroke=\"black\" points=\"52,-0.5 52,-69.5 137,-69.5 137,-0.5 52,-0.5\"/>\n<text text-anchor=\"middle\" x=\"94.5\" y=\"-54.3\" font-family=\"Times,serif\" font-size=\"14.00\">L</text>\n<polyline fill=\"none\" stroke=\"black\" points=\"52,-46.5 137,-46.5\"/>\n<text text-anchor=\"middle\" x=\"94.5\" y=\"-31.3\" font-family=\"Times,serif\" font-size=\"14.00\">data &#45;8.0000</text>\n<polyline fill=\"none\" stroke=\"black\" points=\"52,-23.5 137,-23.5\"/>\n<text text-anchor=\"middle\" x=\"94.5\" y=\"-8.3\" font-family=\"Times,serif\" font-size=\"14.00\">grad 0.0000</text>\n</g>\n<!-- 140295116943856*&#45;&gt;140295116943856 -->\n<g id=\"edge3\" class=\"edge\">\n<title>140295116943856*&#45;&gt;140295116943856</title>\n<path fill=\"none\" stroke=\"black\" d=\"M94.5,-105.81C94.5,-98.5 94.5,-89.6 94.5,-80.63\"/>\n<polygon fill=\"black\" stroke=\"black\" points=\"98,-80.87 94.5,-70.87 91,-80.87 98,-80.87\"/>\n</g>\n</g>\n</svg>\n",
      "text/plain": [
       "<graphviz.graphs.Digraph at 0x7f99009b0d30>"
      ]
     },
     "execution_count": 13,
     "metadata": {},
     "output_type": "execute_result"
    }
   ],
   "source": [
    "L.draw_dot()"
   ]
  },
  {
   "attachments": {},
   "cell_type": "markdown",
   "metadata": {},
   "source": [
    "$$\n",
    "L = d *f \\\\\n",
    "\\frac{dL}{dd} = f\n",
    "\n",
    "$$"
   ]
  },
  {
   "cell_type": "code",
   "execution_count": 14,
   "metadata": {},
   "outputs": [
    {
     "data": {
      "text/plain": [
       "-3.9999999999995595"
      ]
     },
     "execution_count": 14,
     "metadata": {},
     "output_type": "execute_result"
    }
   ],
   "source": [
    "def dev_lim(h = 1e-3):    \n",
    "    a = Value(2.,label = 'a')\n",
    "    b = Value(-3., label = 'b')\n",
    "    c = Value(10., label = 'c')\n",
    "    e = a*b; e.label='e'\n",
    "    d = e + c; d.label = 'd'\n",
    "    f = Value(-2., label = 'f')\n",
    "    L = d * f; L.label = 'L'\n",
    "    L1 = L.data\n",
    "    \n",
    "    a = Value(2.,label = 'a')\n",
    "    b = Value(-3+h, label = 'b')\n",
    "    c = Value(10., label = 'c')\n",
    "    e = a*b; e.label='e'\n",
    "    d = e + c; d.label = 'd'\n",
    "    f = Value(-2., label = 'f')\n",
    "    L = d * f; L.label = 'L'\n",
    "    L2 = L.data\n",
    "    g = (L2-L1)/h\n",
    "\n",
    "    return g\n",
    "    \n",
    "g = dev_lim()\n",
    "g\n",
    "    \n",
    "    "
   ]
  },
  {
   "attachments": {},
   "cell_type": "markdown",
   "metadata": {},
   "source": [
    "## Example neuron"
   ]
  },
  {
   "cell_type": "code",
   "execution_count": 15,
   "metadata": {},
   "outputs": [
    {
     "data": {
      "text/plain": [
       "Value(data=0.6043677771171636)"
      ]
     },
     "execution_count": 15,
     "metadata": {},
     "output_type": "execute_result"
    }
   ],
   "source": [
    "x1 = Value(2., label='x1')\n",
    "x2 = Value(0.0, label = 'x2')\n",
    "\n",
    "w1 = Value(-3.0, label = 'w1')\n",
    "w2 = Value(1.0, label = 'w2')\n",
    "\n",
    "b = Value(6.7, label='bias')\n",
    "\n",
    "x1w1 = x1*w1; x1w1.label='x1*w1'\n",
    "x2w2 = x2*w2; x2w2.label='x2*w2'\n",
    "\n",
    "x1w1x2w2 = x1w1 + x2w2; x1w1x2w2.label='x1w1 + 2w2'\n",
    "\n",
    "n = x1w1x2w2 + b; n.label='n'\n",
    "\n",
    "o = n.tanh(); o.label='o'\n",
    "o"
   ]
  },
  {
   "cell_type": "code",
   "execution_count": 16,
   "metadata": {},
   "outputs": [
    {
     "data": {
      "text/plain": [
       "{Value(data=0.7000000000000002)}"
      ]
     },
     "execution_count": 16,
     "metadata": {},
     "output_type": "execute_result"
    }
   ],
   "source": [
    "o._prev"
   ]
  },
  {
   "cell_type": "code",
   "execution_count": 17,
   "metadata": {},
   "outputs": [
    {
     "data": {
      "image/svg+xml": "<?xml version=\"1.0\" encoding=\"UTF-8\" standalone=\"no\"?>\n<!DOCTYPE svg PUBLIC \"-//W3C//DTD SVG 1.1//EN\"\n \"http://www.w3.org/Graphics/SVG/1.1/DTD/svg11.dtd\">\n<!-- Generated by graphviz version 7.1.0 (20230121.1956)\n -->\n<!-- Pages: 1 -->\n<svg width=\"395pt\" height=\"790pt\"\n viewBox=\"0.00 0.00 394.50 790.00\" xmlns=\"http://www.w3.org/2000/svg\" xmlns:xlink=\"http://www.w3.org/1999/xlink\">\n<g id=\"graph0\" class=\"graph\" transform=\"scale(1 1) rotate(0) translate(4 786)\">\n<polygon fill=\"white\" stroke=\"none\" points=\"-4,4 -4,-786 390.5,-786 390.5,4 -4,4\"/>\n<!-- 140295919961616 -->\n<g id=\"node1\" class=\"node\">\n<title>140295919961616</title>\n<polygon fill=\"none\" stroke=\"black\" points=\"0,-712.5 0,-781.5 85,-781.5 85,-712.5 0,-712.5\"/>\n<text text-anchor=\"middle\" x=\"42.5\" y=\"-766.3\" font-family=\"Times,serif\" font-size=\"14.00\">w1</text>\n<polyline fill=\"none\" stroke=\"black\" points=\"0,-758.5 85,-758.5\"/>\n<text text-anchor=\"middle\" x=\"42.5\" y=\"-743.3\" font-family=\"Times,serif\" font-size=\"14.00\">data &#45;3.0000</text>\n<polyline fill=\"none\" stroke=\"black\" points=\"0,-735.5 85,-735.5\"/>\n<text text-anchor=\"middle\" x=\"42.5\" y=\"-720.3\" font-family=\"Times,serif\" font-size=\"14.00\">grad 0.0000</text>\n</g>\n<!-- 140295919962720* -->\n<g id=\"node5\" class=\"node\">\n<title>140295919962720*</title>\n<ellipse fill=\"none\" stroke=\"black\" cx=\"143.5\" cy=\"-658\" rx=\"27\" ry=\"18\"/>\n<text text-anchor=\"middle\" x=\"143.5\" y=\"-654.3\" font-family=\"Times,serif\" font-size=\"14.00\">*</text>\n</g>\n<!-- 140295919961616&#45;&gt;140295919962720* -->\n<g id=\"edge6\" class=\"edge\">\n<title>140295919961616&#45;&gt;140295919962720*</title>\n<path fill=\"none\" stroke=\"black\" d=\"M81.26,-712.61C93.9,-701.72 107.58,-689.94 118.89,-680.2\"/>\n<polygon fill=\"black\" stroke=\"black\" points=\"120.95,-683.05 126.24,-673.87 116.38,-677.74 120.95,-683.05\"/>\n</g>\n<!-- 140295919962672 -->\n<g id=\"node2\" class=\"node\">\n<title>140295919962672</title>\n<polygon fill=\"none\" stroke=\"black\" points=\"151.5,-356.5 151.5,-425.5 237.5,-425.5 237.5,-356.5 151.5,-356.5\"/>\n<text text-anchor=\"middle\" x=\"194.5\" y=\"-410.3\" font-family=\"Times,serif\" font-size=\"14.00\">x1w1 + 2w2</text>\n<polyline fill=\"none\" stroke=\"black\" points=\"151.5,-402.5 237.5,-402.5\"/>\n<text text-anchor=\"middle\" x=\"194.5\" y=\"-387.3\" font-family=\"Times,serif\" font-size=\"14.00\">data &#45;6.0000</text>\n<polyline fill=\"none\" stroke=\"black\" points=\"151.5,-379.5 237.5,-379.5\"/>\n<text text-anchor=\"middle\" x=\"194.5\" y=\"-364.3\" font-family=\"Times,serif\" font-size=\"14.00\">grad 0.0000</text>\n</g>\n<!-- 140295919962000+ -->\n<g id=\"node11\" class=\"node\">\n<title>140295919962000+</title>\n<ellipse fill=\"none\" stroke=\"black\" cx=\"245.5\" cy=\"-302\" rx=\"27\" ry=\"18\"/>\n<text text-anchor=\"middle\" x=\"245.5\" y=\"-298.3\" font-family=\"Times,serif\" font-size=\"14.00\">+</text>\n</g>\n<!-- 140295919962672&#45;&gt;140295919962000+ -->\n<g id=\"edge11\" class=\"edge\">\n<title>140295919962672&#45;&gt;140295919962000+</title>\n<path fill=\"none\" stroke=\"black\" d=\"M214.07,-356.61C219.42,-347.48 225.15,-337.72 230.22,-329.07\"/>\n<polygon fill=\"black\" stroke=\"black\" points=\"233.22,-330.88 235.25,-320.48 227.18,-327.34 233.22,-330.88\"/>\n</g>\n<!-- 140295919962672+ -->\n<g id=\"node3\" class=\"node\">\n<title>140295919962672+</title>\n<ellipse fill=\"none\" stroke=\"black\" cx=\"194.5\" cy=\"-480\" rx=\"27\" ry=\"18\"/>\n<text text-anchor=\"middle\" x=\"194.5\" y=\"-476.3\" font-family=\"Times,serif\" font-size=\"14.00\">+</text>\n</g>\n<!-- 140295919962672+&#45;&gt;140295919962672 -->\n<g id=\"edge1\" class=\"edge\">\n<title>140295919962672+&#45;&gt;140295919962672</title>\n<path fill=\"none\" stroke=\"black\" d=\"M194.5,-461.81C194.5,-454.5 194.5,-445.6 194.5,-436.63\"/>\n<polygon fill=\"black\" stroke=\"black\" points=\"198,-436.87 194.5,-426.87 191,-436.87 198,-436.87\"/>\n</g>\n<!-- 140295919962720 -->\n<g id=\"node4\" class=\"node\">\n<title>140295919962720</title>\n<polygon fill=\"none\" stroke=\"black\" points=\"101,-534.5 101,-603.5 186,-603.5 186,-534.5 101,-534.5\"/>\n<text text-anchor=\"middle\" x=\"143.5\" y=\"-588.3\" font-family=\"Times,serif\" font-size=\"14.00\">x1*w1</text>\n<polyline fill=\"none\" stroke=\"black\" points=\"101,-580.5 186,-580.5\"/>\n<text text-anchor=\"middle\" x=\"143.5\" y=\"-565.3\" font-family=\"Times,serif\" font-size=\"14.00\">data &#45;6.0000</text>\n<polyline fill=\"none\" stroke=\"black\" points=\"101,-557.5 186,-557.5\"/>\n<text text-anchor=\"middle\" x=\"143.5\" y=\"-542.3\" font-family=\"Times,serif\" font-size=\"14.00\">grad 0.0000</text>\n</g>\n<!-- 140295919962720&#45;&gt;140295919962672+ -->\n<g id=\"edge13\" class=\"edge\">\n<title>140295919962720&#45;&gt;140295919962672+</title>\n<path fill=\"none\" stroke=\"black\" d=\"M163.07,-534.61C168.42,-525.48 174.15,-515.72 179.22,-507.07\"/>\n<polygon fill=\"black\" stroke=\"black\" points=\"182.22,-508.88 184.25,-498.48 176.18,-505.34 182.22,-508.88\"/>\n</g>\n<!-- 140295919962720*&#45;&gt;140295919962720 -->\n<g id=\"edge2\" class=\"edge\">\n<title>140295919962720*&#45;&gt;140295919962720</title>\n<path fill=\"none\" stroke=\"black\" d=\"M143.5,-639.81C143.5,-632.5 143.5,-623.6 143.5,-614.63\"/>\n<polygon fill=\"black\" stroke=\"black\" points=\"147,-614.87 143.5,-604.87 140,-614.87 147,-614.87\"/>\n</g>\n<!-- 140295919962288 -->\n<g id=\"node6\" class=\"node\">\n<title>140295919962288</title>\n<polygon fill=\"none\" stroke=\"black\" points=\"255.5,-356.5 255.5,-425.5 337.5,-425.5 337.5,-356.5 255.5,-356.5\"/>\n<text text-anchor=\"middle\" x=\"296.5\" y=\"-410.3\" font-family=\"Times,serif\" font-size=\"14.00\">bias</text>\n<polyline fill=\"none\" stroke=\"black\" points=\"255.5,-402.5 337.5,-402.5\"/>\n<text text-anchor=\"middle\" x=\"296.5\" y=\"-387.3\" font-family=\"Times,serif\" font-size=\"14.00\">data 6.7000</text>\n<polyline fill=\"none\" stroke=\"black\" points=\"255.5,-379.5 337.5,-379.5\"/>\n<text text-anchor=\"middle\" x=\"296.5\" y=\"-364.3\" font-family=\"Times,serif\" font-size=\"14.00\">grad 0.0000</text>\n</g>\n<!-- 140295919962288&#45;&gt;140295919962000+ -->\n<g id=\"edge14\" class=\"edge\">\n<title>140295919962288&#45;&gt;140295919962000+</title>\n<path fill=\"none\" stroke=\"black\" d=\"M276.93,-356.61C271.58,-347.48 265.85,-337.72 260.78,-329.07\"/>\n<polygon fill=\"black\" stroke=\"black\" points=\"263.82,-327.34 255.75,-320.48 257.78,-330.88 263.82,-327.34\"/>\n</g>\n<!-- 140295919962384 -->\n<g id=\"node7\" class=\"node\">\n<title>140295919962384</title>\n<polygon fill=\"none\" stroke=\"black\" points=\"204.5,-712.5 204.5,-781.5 286.5,-781.5 286.5,-712.5 204.5,-712.5\"/>\n<text text-anchor=\"middle\" x=\"245.5\" y=\"-766.3\" font-family=\"Times,serif\" font-size=\"14.00\">x2</text>\n<polyline fill=\"none\" stroke=\"black\" points=\"204.5,-758.5 286.5,-758.5\"/>\n<text text-anchor=\"middle\" x=\"245.5\" y=\"-743.3\" font-family=\"Times,serif\" font-size=\"14.00\">data 0.0000</text>\n<polyline fill=\"none\" stroke=\"black\" points=\"204.5,-735.5 286.5,-735.5\"/>\n<text text-anchor=\"middle\" x=\"245.5\" y=\"-720.3\" font-family=\"Times,serif\" font-size=\"14.00\">grad 0.0000</text>\n</g>\n<!-- 140295919962528* -->\n<g id=\"node13\" class=\"node\">\n<title>140295919962528*</title>\n<ellipse fill=\"none\" stroke=\"black\" cx=\"245.5\" cy=\"-658\" rx=\"27\" ry=\"18\"/>\n<text text-anchor=\"middle\" x=\"245.5\" y=\"-654.3\" font-family=\"Times,serif\" font-size=\"14.00\">*</text>\n</g>\n<!-- 140295919962384&#45;&gt;140295919962528* -->\n<g id=\"edge10\" class=\"edge\">\n<title>140295919962384&#45;&gt;140295919962528*</title>\n<path fill=\"none\" stroke=\"black\" d=\"M245.5,-712.61C245.5,-704.34 245.5,-695.55 245.5,-687.53\"/>\n<polygon fill=\"black\" stroke=\"black\" points=\"249,-687.64 245.5,-677.64 242,-687.64 249,-687.64\"/>\n</g>\n<!-- 140295919962432 -->\n<g id=\"node8\" class=\"node\">\n<title>140295919962432</title>\n<polygon fill=\"none\" stroke=\"black\" points=\"304.5,-712.5 304.5,-781.5 386.5,-781.5 386.5,-712.5 304.5,-712.5\"/>\n<text text-anchor=\"middle\" x=\"345.5\" y=\"-766.3\" font-family=\"Times,serif\" font-size=\"14.00\">w2</text>\n<polyline fill=\"none\" stroke=\"black\" points=\"304.5,-758.5 386.5,-758.5\"/>\n<text text-anchor=\"middle\" x=\"345.5\" y=\"-743.3\" font-family=\"Times,serif\" font-size=\"14.00\">data 1.0000</text>\n<polyline fill=\"none\" stroke=\"black\" points=\"304.5,-735.5 386.5,-735.5\"/>\n<text text-anchor=\"middle\" x=\"345.5\" y=\"-720.3\" font-family=\"Times,serif\" font-size=\"14.00\">grad 0.0000</text>\n</g>\n<!-- 140295919962432&#45;&gt;140295919962528* -->\n<g id=\"edge9\" class=\"edge\">\n<title>140295919962432&#45;&gt;140295919962528*</title>\n<path fill=\"none\" stroke=\"black\" d=\"M307.12,-712.61C294.61,-701.72 281.06,-689.94 269.87,-680.2\"/>\n<polygon fill=\"black\" stroke=\"black\" points=\"272.44,-677.8 262.6,-673.88 267.84,-683.08 272.44,-677.8\"/>\n</g>\n<!-- 140295919962480 -->\n<g id=\"node9\" class=\"node\">\n<title>140295919962480</title>\n<polygon fill=\"none\" stroke=\"black\" points=\"103.5,-712.5 103.5,-781.5 185.5,-781.5 185.5,-712.5 103.5,-712.5\"/>\n<text text-anchor=\"middle\" x=\"144.5\" y=\"-766.3\" font-family=\"Times,serif\" font-size=\"14.00\">x1</text>\n<polyline fill=\"none\" stroke=\"black\" points=\"103.5,-758.5 185.5,-758.5\"/>\n<text text-anchor=\"middle\" x=\"144.5\" y=\"-743.3\" font-family=\"Times,serif\" font-size=\"14.00\">data 2.0000</text>\n<polyline fill=\"none\" stroke=\"black\" points=\"103.5,-735.5 185.5,-735.5\"/>\n<text text-anchor=\"middle\" x=\"144.5\" y=\"-720.3\" font-family=\"Times,serif\" font-size=\"14.00\">grad 0.0000</text>\n</g>\n<!-- 140295919962480&#45;&gt;140295919962720* -->\n<g id=\"edge7\" class=\"edge\">\n<title>140295919962480&#45;&gt;140295919962720*</title>\n<path fill=\"none\" stroke=\"black\" d=\"M144.12,-712.61C144.02,-704.34 143.92,-695.55 143.83,-687.53\"/>\n<polygon fill=\"black\" stroke=\"black\" points=\"147.33,-687.6 143.71,-677.64 140.33,-687.68 147.33,-687.6\"/>\n</g>\n<!-- 140295919962000 -->\n<g id=\"node10\" class=\"node\">\n<title>140295919962000</title>\n<polygon fill=\"none\" stroke=\"black\" points=\"204.5,-178.5 204.5,-247.5 286.5,-247.5 286.5,-178.5 204.5,-178.5\"/>\n<text text-anchor=\"middle\" x=\"245.5\" y=\"-232.3\" font-family=\"Times,serif\" font-size=\"14.00\">n</text>\n<polyline fill=\"none\" stroke=\"black\" points=\"204.5,-224.5 286.5,-224.5\"/>\n<text text-anchor=\"middle\" x=\"245.5\" y=\"-209.3\" font-family=\"Times,serif\" font-size=\"14.00\">data 0.7000</text>\n<polyline fill=\"none\" stroke=\"black\" points=\"204.5,-201.5 286.5,-201.5\"/>\n<text text-anchor=\"middle\" x=\"245.5\" y=\"-186.3\" font-family=\"Times,serif\" font-size=\"14.00\">grad 0.0000</text>\n</g>\n<!-- 140295919963056tanh -->\n<g id=\"node15\" class=\"node\">\n<title>140295919963056tanh</title>\n<ellipse fill=\"none\" stroke=\"black\" cx=\"245.5\" cy=\"-124\" rx=\"27\" ry=\"18\"/>\n<text text-anchor=\"middle\" x=\"245.5\" y=\"-120.3\" font-family=\"Times,serif\" font-size=\"14.00\">tanh</text>\n</g>\n<!-- 140295919962000&#45;&gt;140295919963056tanh -->\n<g id=\"edge8\" class=\"edge\">\n<title>140295919962000&#45;&gt;140295919963056tanh</title>\n<path fill=\"none\" stroke=\"black\" d=\"M245.5,-178.61C245.5,-170.34 245.5,-161.55 245.5,-153.53\"/>\n<polygon fill=\"black\" stroke=\"black\" points=\"249,-153.64 245.5,-143.64 242,-153.64 249,-153.64\"/>\n</g>\n<!-- 140295919962000+&#45;&gt;140295919962000 -->\n<g id=\"edge3\" class=\"edge\">\n<title>140295919962000+&#45;&gt;140295919962000</title>\n<path fill=\"none\" stroke=\"black\" d=\"M245.5,-283.81C245.5,-276.5 245.5,-267.6 245.5,-258.63\"/>\n<polygon fill=\"black\" stroke=\"black\" points=\"249,-258.87 245.5,-248.87 242,-258.87 249,-258.87\"/>\n</g>\n<!-- 140295919962528 -->\n<g id=\"node12\" class=\"node\">\n<title>140295919962528</title>\n<polygon fill=\"none\" stroke=\"black\" points=\"204.5,-534.5 204.5,-603.5 286.5,-603.5 286.5,-534.5 204.5,-534.5\"/>\n<text text-anchor=\"middle\" x=\"245.5\" y=\"-588.3\" font-family=\"Times,serif\" font-size=\"14.00\">x2*w2</text>\n<polyline fill=\"none\" stroke=\"black\" points=\"204.5,-580.5 286.5,-580.5\"/>\n<text text-anchor=\"middle\" x=\"245.5\" y=\"-565.3\" font-family=\"Times,serif\" font-size=\"14.00\">data 0.0000</text>\n<polyline fill=\"none\" stroke=\"black\" points=\"204.5,-557.5 286.5,-557.5\"/>\n<text text-anchor=\"middle\" x=\"245.5\" y=\"-542.3\" font-family=\"Times,serif\" font-size=\"14.00\">grad 0.0000</text>\n</g>\n<!-- 140295919962528&#45;&gt;140295919962672+ -->\n<g id=\"edge12\" class=\"edge\">\n<title>140295919962528&#45;&gt;140295919962672+</title>\n<path fill=\"none\" stroke=\"black\" d=\"M225.93,-534.61C220.58,-525.48 214.85,-515.72 209.78,-507.07\"/>\n<polygon fill=\"black\" stroke=\"black\" points=\"212.82,-505.34 204.75,-498.48 206.78,-508.88 212.82,-505.34\"/>\n</g>\n<!-- 140295919962528*&#45;&gt;140295919962528 -->\n<g id=\"edge4\" class=\"edge\">\n<title>140295919962528*&#45;&gt;140295919962528</title>\n<path fill=\"none\" stroke=\"black\" d=\"M245.5,-639.81C245.5,-632.5 245.5,-623.6 245.5,-614.63\"/>\n<polygon fill=\"black\" stroke=\"black\" points=\"249,-614.87 245.5,-604.87 242,-614.87 249,-614.87\"/>\n</g>\n<!-- 140295919963056 -->\n<g id=\"node14\" class=\"node\">\n<title>140295919963056</title>\n<polygon fill=\"none\" stroke=\"black\" points=\"204.5,-0.5 204.5,-69.5 286.5,-69.5 286.5,-0.5 204.5,-0.5\"/>\n<text text-anchor=\"middle\" x=\"245.5\" y=\"-54.3\" font-family=\"Times,serif\" font-size=\"14.00\">o</text>\n<polyline fill=\"none\" stroke=\"black\" points=\"204.5,-46.5 286.5,-46.5\"/>\n<text text-anchor=\"middle\" x=\"245.5\" y=\"-31.3\" font-family=\"Times,serif\" font-size=\"14.00\">data 0.6044</text>\n<polyline fill=\"none\" stroke=\"black\" points=\"204.5,-23.5 286.5,-23.5\"/>\n<text text-anchor=\"middle\" x=\"245.5\" y=\"-8.3\" font-family=\"Times,serif\" font-size=\"14.00\">grad 0.0000</text>\n</g>\n<!-- 140295919963056tanh&#45;&gt;140295919963056 -->\n<g id=\"edge5\" class=\"edge\">\n<title>140295919963056tanh&#45;&gt;140295919963056</title>\n<path fill=\"none\" stroke=\"black\" d=\"M245.5,-105.81C245.5,-98.5 245.5,-89.6 245.5,-80.63\"/>\n<polygon fill=\"black\" stroke=\"black\" points=\"249,-80.87 245.5,-70.87 242,-80.87 249,-80.87\"/>\n</g>\n</g>\n</svg>\n",
      "text/plain": [
       "<graphviz.graphs.Digraph at 0x7f9930774d30>"
      ]
     },
     "execution_count": 17,
     "metadata": {},
     "output_type": "execute_result"
    }
   ],
   "source": [
    "o.draw_dot()"
   ]
  },
  {
   "cell_type": "code",
   "execution_count": 18,
   "metadata": {},
   "outputs": [
    {
     "data": {
      "text/plain": [
       "[Value(data=0.0),\n",
       " Value(data=1.0),\n",
       " Value(data=0.0),\n",
       " Value(data=-3.0),\n",
       " Value(data=2.0),\n",
       " Value(data=-6.0),\n",
       " Value(data=-6.0),\n",
       " Value(data=6.7),\n",
       " Value(data=0.7000000000000002),\n",
       " Value(data=0.6043677771171636)]"
      ]
     },
     "execution_count": 18,
     "metadata": {},
     "output_type": "execute_result"
    }
   ],
   "source": [
    "o.sort_topological()"
   ]
  },
  {
   "cell_type": "code",
   "execution_count": 19,
   "metadata": {},
   "outputs": [],
   "source": [
    "o.backward()\n"
   ]
  },
  {
   "cell_type": "code",
   "execution_count": 20,
   "metadata": {},
   "outputs": [
    {
     "data": {
      "image/svg+xml": "<?xml version=\"1.0\" encoding=\"UTF-8\" standalone=\"no\"?>\n<!DOCTYPE svg PUBLIC \"-//W3C//DTD SVG 1.1//EN\"\n \"http://www.w3.org/Graphics/SVG/1.1/DTD/svg11.dtd\">\n<!-- Generated by graphviz version 7.1.0 (20230121.1956)\n -->\n<!-- Pages: 1 -->\n<svg width=\"398pt\" height=\"790pt\"\n viewBox=\"0.00 0.00 397.50 790.00\" xmlns=\"http://www.w3.org/2000/svg\" xmlns:xlink=\"http://www.w3.org/1999/xlink\">\n<g id=\"graph0\" class=\"graph\" transform=\"scale(1 1) rotate(0) translate(4 786)\">\n<polygon fill=\"white\" stroke=\"none\" points=\"-4,4 -4,-786 393.5,-786 393.5,4 -4,4\"/>\n<!-- 140295919961616 -->\n<g id=\"node1\" class=\"node\">\n<title>140295919961616</title>\n<polygon fill=\"none\" stroke=\"black\" points=\"0,-712.5 0,-781.5 85,-781.5 85,-712.5 0,-712.5\"/>\n<text text-anchor=\"middle\" x=\"42.5\" y=\"-766.3\" font-family=\"Times,serif\" font-size=\"14.00\">w1</text>\n<polyline fill=\"none\" stroke=\"black\" points=\"0,-758.5 85,-758.5\"/>\n<text text-anchor=\"middle\" x=\"42.5\" y=\"-743.3\" font-family=\"Times,serif\" font-size=\"14.00\">data &#45;3.0000</text>\n<polyline fill=\"none\" stroke=\"black\" points=\"0,-735.5 85,-735.5\"/>\n<text text-anchor=\"middle\" x=\"42.5\" y=\"-720.3\" font-family=\"Times,serif\" font-size=\"14.00\">grad 1.2695</text>\n</g>\n<!-- 140295919962720* -->\n<g id=\"node5\" class=\"node\">\n<title>140295919962720*</title>\n<ellipse fill=\"none\" stroke=\"black\" cx=\"146.5\" cy=\"-658\" rx=\"27\" ry=\"18\"/>\n<text text-anchor=\"middle\" x=\"146.5\" y=\"-654.3\" font-family=\"Times,serif\" font-size=\"14.00\">*</text>\n</g>\n<!-- 140295919961616&#45;&gt;140295919962720* -->\n<g id=\"edge6\" class=\"edge\">\n<title>140295919961616&#45;&gt;140295919962720*</title>\n<path fill=\"none\" stroke=\"black\" d=\"M82.41,-712.61C95.52,-701.65 109.71,-689.77 121.4,-680\"/>\n<polygon fill=\"black\" stroke=\"black\" points=\"123.59,-682.73 129.01,-673.63 119.09,-677.36 123.59,-682.73\"/>\n</g>\n<!-- 140295919962672 -->\n<g id=\"node2\" class=\"node\">\n<title>140295919962672</title>\n<polygon fill=\"none\" stroke=\"black\" points=\"154.5,-356.5 154.5,-425.5 240.5,-425.5 240.5,-356.5 154.5,-356.5\"/>\n<text text-anchor=\"middle\" x=\"197.5\" y=\"-410.3\" font-family=\"Times,serif\" font-size=\"14.00\">x1w1 + 2w2</text>\n<polyline fill=\"none\" stroke=\"black\" points=\"154.5,-402.5 240.5,-402.5\"/>\n<text text-anchor=\"middle\" x=\"197.5\" y=\"-387.3\" font-family=\"Times,serif\" font-size=\"14.00\">data &#45;6.0000</text>\n<polyline fill=\"none\" stroke=\"black\" points=\"154.5,-379.5 240.5,-379.5\"/>\n<text text-anchor=\"middle\" x=\"197.5\" y=\"-364.3\" font-family=\"Times,serif\" font-size=\"14.00\">grad 0.6347</text>\n</g>\n<!-- 140295919962000+ -->\n<g id=\"node11\" class=\"node\">\n<title>140295919962000+</title>\n<ellipse fill=\"none\" stroke=\"black\" cx=\"248.5\" cy=\"-302\" rx=\"27\" ry=\"18\"/>\n<text text-anchor=\"middle\" x=\"248.5\" y=\"-298.3\" font-family=\"Times,serif\" font-size=\"14.00\">+</text>\n</g>\n<!-- 140295919962672&#45;&gt;140295919962000+ -->\n<g id=\"edge11\" class=\"edge\">\n<title>140295919962672&#45;&gt;140295919962000+</title>\n<path fill=\"none\" stroke=\"black\" d=\"M217.07,-356.61C222.42,-347.48 228.15,-337.72 233.22,-329.07\"/>\n<polygon fill=\"black\" stroke=\"black\" points=\"236.22,-330.88 238.25,-320.48 230.18,-327.34 236.22,-330.88\"/>\n</g>\n<!-- 140295919962672+ -->\n<g id=\"node3\" class=\"node\">\n<title>140295919962672+</title>\n<ellipse fill=\"none\" stroke=\"black\" cx=\"197.5\" cy=\"-480\" rx=\"27\" ry=\"18\"/>\n<text text-anchor=\"middle\" x=\"197.5\" y=\"-476.3\" font-family=\"Times,serif\" font-size=\"14.00\">+</text>\n</g>\n<!-- 140295919962672+&#45;&gt;140295919962672 -->\n<g id=\"edge1\" class=\"edge\">\n<title>140295919962672+&#45;&gt;140295919962672</title>\n<path fill=\"none\" stroke=\"black\" d=\"M197.5,-461.81C197.5,-454.5 197.5,-445.6 197.5,-436.63\"/>\n<polygon fill=\"black\" stroke=\"black\" points=\"201,-436.87 197.5,-426.87 194,-436.87 201,-436.87\"/>\n</g>\n<!-- 140295919962720 -->\n<g id=\"node4\" class=\"node\">\n<title>140295919962720</title>\n<polygon fill=\"none\" stroke=\"black\" points=\"104,-534.5 104,-603.5 189,-603.5 189,-534.5 104,-534.5\"/>\n<text text-anchor=\"middle\" x=\"146.5\" y=\"-588.3\" font-family=\"Times,serif\" font-size=\"14.00\">x1*w1</text>\n<polyline fill=\"none\" stroke=\"black\" points=\"104,-580.5 189,-580.5\"/>\n<text text-anchor=\"middle\" x=\"146.5\" y=\"-565.3\" font-family=\"Times,serif\" font-size=\"14.00\">data &#45;6.0000</text>\n<polyline fill=\"none\" stroke=\"black\" points=\"104,-557.5 189,-557.5\"/>\n<text text-anchor=\"middle\" x=\"146.5\" y=\"-542.3\" font-family=\"Times,serif\" font-size=\"14.00\">grad 0.6347</text>\n</g>\n<!-- 140295919962720&#45;&gt;140295919962672+ -->\n<g id=\"edge13\" class=\"edge\">\n<title>140295919962720&#45;&gt;140295919962672+</title>\n<path fill=\"none\" stroke=\"black\" d=\"M166.07,-534.61C171.42,-525.48 177.15,-515.72 182.22,-507.07\"/>\n<polygon fill=\"black\" stroke=\"black\" points=\"185.22,-508.88 187.25,-498.48 179.18,-505.34 185.22,-508.88\"/>\n</g>\n<!-- 140295919962720*&#45;&gt;140295919962720 -->\n<g id=\"edge2\" class=\"edge\">\n<title>140295919962720*&#45;&gt;140295919962720</title>\n<path fill=\"none\" stroke=\"black\" d=\"M146.5,-639.81C146.5,-632.5 146.5,-623.6 146.5,-614.63\"/>\n<polygon fill=\"black\" stroke=\"black\" points=\"150,-614.87 146.5,-604.87 143,-614.87 150,-614.87\"/>\n</g>\n<!-- 140295919962288 -->\n<g id=\"node6\" class=\"node\">\n<title>140295919962288</title>\n<polygon fill=\"none\" stroke=\"black\" points=\"258.5,-356.5 258.5,-425.5 340.5,-425.5 340.5,-356.5 258.5,-356.5\"/>\n<text text-anchor=\"middle\" x=\"299.5\" y=\"-410.3\" font-family=\"Times,serif\" font-size=\"14.00\">bias</text>\n<polyline fill=\"none\" stroke=\"black\" points=\"258.5,-402.5 340.5,-402.5\"/>\n<text text-anchor=\"middle\" x=\"299.5\" y=\"-387.3\" font-family=\"Times,serif\" font-size=\"14.00\">data 6.7000</text>\n<polyline fill=\"none\" stroke=\"black\" points=\"258.5,-379.5 340.5,-379.5\"/>\n<text text-anchor=\"middle\" x=\"299.5\" y=\"-364.3\" font-family=\"Times,serif\" font-size=\"14.00\">grad 0.6347</text>\n</g>\n<!-- 140295919962288&#45;&gt;140295919962000+ -->\n<g id=\"edge14\" class=\"edge\">\n<title>140295919962288&#45;&gt;140295919962000+</title>\n<path fill=\"none\" stroke=\"black\" d=\"M279.93,-356.61C274.58,-347.48 268.85,-337.72 263.78,-329.07\"/>\n<polygon fill=\"black\" stroke=\"black\" points=\"266.82,-327.34 258.75,-320.48 260.78,-330.88 266.82,-327.34\"/>\n</g>\n<!-- 140295919962384 -->\n<g id=\"node7\" class=\"node\">\n<title>140295919962384</title>\n<polygon fill=\"none\" stroke=\"black\" points=\"207.5,-712.5 207.5,-781.5 289.5,-781.5 289.5,-712.5 207.5,-712.5\"/>\n<text text-anchor=\"middle\" x=\"248.5\" y=\"-766.3\" font-family=\"Times,serif\" font-size=\"14.00\">x2</text>\n<polyline fill=\"none\" stroke=\"black\" points=\"207.5,-758.5 289.5,-758.5\"/>\n<text text-anchor=\"middle\" x=\"248.5\" y=\"-743.3\" font-family=\"Times,serif\" font-size=\"14.00\">data 0.0000</text>\n<polyline fill=\"none\" stroke=\"black\" points=\"207.5,-735.5 289.5,-735.5\"/>\n<text text-anchor=\"middle\" x=\"248.5\" y=\"-720.3\" font-family=\"Times,serif\" font-size=\"14.00\">grad 0.6347</text>\n</g>\n<!-- 140295919962528* -->\n<g id=\"node13\" class=\"node\">\n<title>140295919962528*</title>\n<ellipse fill=\"none\" stroke=\"black\" cx=\"248.5\" cy=\"-658\" rx=\"27\" ry=\"18\"/>\n<text text-anchor=\"middle\" x=\"248.5\" y=\"-654.3\" font-family=\"Times,serif\" font-size=\"14.00\">*</text>\n</g>\n<!-- 140295919962384&#45;&gt;140295919962528* -->\n<g id=\"edge10\" class=\"edge\">\n<title>140295919962384&#45;&gt;140295919962528*</title>\n<path fill=\"none\" stroke=\"black\" d=\"M248.5,-712.61C248.5,-704.34 248.5,-695.55 248.5,-687.53\"/>\n<polygon fill=\"black\" stroke=\"black\" points=\"252,-687.64 248.5,-677.64 245,-687.64 252,-687.64\"/>\n</g>\n<!-- 140295919962432 -->\n<g id=\"node8\" class=\"node\">\n<title>140295919962432</title>\n<polygon fill=\"none\" stroke=\"black\" points=\"307.5,-712.5 307.5,-781.5 389.5,-781.5 389.5,-712.5 307.5,-712.5\"/>\n<text text-anchor=\"middle\" x=\"348.5\" y=\"-766.3\" font-family=\"Times,serif\" font-size=\"14.00\">w2</text>\n<polyline fill=\"none\" stroke=\"black\" points=\"307.5,-758.5 389.5,-758.5\"/>\n<text text-anchor=\"middle\" x=\"348.5\" y=\"-743.3\" font-family=\"Times,serif\" font-size=\"14.00\">data 1.0000</text>\n<polyline fill=\"none\" stroke=\"black\" points=\"307.5,-735.5 389.5,-735.5\"/>\n<text text-anchor=\"middle\" x=\"348.5\" y=\"-720.3\" font-family=\"Times,serif\" font-size=\"14.00\">grad 0.0000</text>\n</g>\n<!-- 140295919962432&#45;&gt;140295919962528* -->\n<g id=\"edge9\" class=\"edge\">\n<title>140295919962432&#45;&gt;140295919962528*</title>\n<path fill=\"none\" stroke=\"black\" d=\"M310.12,-712.61C297.61,-701.72 284.06,-689.94 272.87,-680.2\"/>\n<polygon fill=\"black\" stroke=\"black\" points=\"275.44,-677.8 265.6,-673.88 270.84,-683.08 275.44,-677.8\"/>\n</g>\n<!-- 140295919962480 -->\n<g id=\"node9\" class=\"node\">\n<title>140295919962480</title>\n<polygon fill=\"none\" stroke=\"black\" points=\"103.5,-712.5 103.5,-781.5 189.5,-781.5 189.5,-712.5 103.5,-712.5\"/>\n<text text-anchor=\"middle\" x=\"146.5\" y=\"-766.3\" font-family=\"Times,serif\" font-size=\"14.00\">x1</text>\n<polyline fill=\"none\" stroke=\"black\" points=\"103.5,-758.5 189.5,-758.5\"/>\n<text text-anchor=\"middle\" x=\"146.5\" y=\"-743.3\" font-family=\"Times,serif\" font-size=\"14.00\">data 2.0000</text>\n<polyline fill=\"none\" stroke=\"black\" points=\"103.5,-735.5 189.5,-735.5\"/>\n<text text-anchor=\"middle\" x=\"146.5\" y=\"-720.3\" font-family=\"Times,serif\" font-size=\"14.00\">grad &#45;1.9042</text>\n</g>\n<!-- 140295919962480&#45;&gt;140295919962720* -->\n<g id=\"edge7\" class=\"edge\">\n<title>140295919962480&#45;&gt;140295919962720*</title>\n<path fill=\"none\" stroke=\"black\" d=\"M146.5,-712.61C146.5,-704.34 146.5,-695.55 146.5,-687.53\"/>\n<polygon fill=\"black\" stroke=\"black\" points=\"150,-687.64 146.5,-677.64 143,-687.64 150,-687.64\"/>\n</g>\n<!-- 140295919962000 -->\n<g id=\"node10\" class=\"node\">\n<title>140295919962000</title>\n<polygon fill=\"none\" stroke=\"black\" points=\"207.5,-178.5 207.5,-247.5 289.5,-247.5 289.5,-178.5 207.5,-178.5\"/>\n<text text-anchor=\"middle\" x=\"248.5\" y=\"-232.3\" font-family=\"Times,serif\" font-size=\"14.00\">n</text>\n<polyline fill=\"none\" stroke=\"black\" points=\"207.5,-224.5 289.5,-224.5\"/>\n<text text-anchor=\"middle\" x=\"248.5\" y=\"-209.3\" font-family=\"Times,serif\" font-size=\"14.00\">data 0.7000</text>\n<polyline fill=\"none\" stroke=\"black\" points=\"207.5,-201.5 289.5,-201.5\"/>\n<text text-anchor=\"middle\" x=\"248.5\" y=\"-186.3\" font-family=\"Times,serif\" font-size=\"14.00\">grad 0.6347</text>\n</g>\n<!-- 140295919963056tanh -->\n<g id=\"node15\" class=\"node\">\n<title>140295919963056tanh</title>\n<ellipse fill=\"none\" stroke=\"black\" cx=\"248.5\" cy=\"-124\" rx=\"27\" ry=\"18\"/>\n<text text-anchor=\"middle\" x=\"248.5\" y=\"-120.3\" font-family=\"Times,serif\" font-size=\"14.00\">tanh</text>\n</g>\n<!-- 140295919962000&#45;&gt;140295919963056tanh -->\n<g id=\"edge8\" class=\"edge\">\n<title>140295919962000&#45;&gt;140295919963056tanh</title>\n<path fill=\"none\" stroke=\"black\" d=\"M248.5,-178.61C248.5,-170.34 248.5,-161.55 248.5,-153.53\"/>\n<polygon fill=\"black\" stroke=\"black\" points=\"252,-153.64 248.5,-143.64 245,-153.64 252,-153.64\"/>\n</g>\n<!-- 140295919962000+&#45;&gt;140295919962000 -->\n<g id=\"edge3\" class=\"edge\">\n<title>140295919962000+&#45;&gt;140295919962000</title>\n<path fill=\"none\" stroke=\"black\" d=\"M248.5,-283.81C248.5,-276.5 248.5,-267.6 248.5,-258.63\"/>\n<polygon fill=\"black\" stroke=\"black\" points=\"252,-258.87 248.5,-248.87 245,-258.87 252,-258.87\"/>\n</g>\n<!-- 140295919962528 -->\n<g id=\"node12\" class=\"node\">\n<title>140295919962528</title>\n<polygon fill=\"none\" stroke=\"black\" points=\"207.5,-534.5 207.5,-603.5 289.5,-603.5 289.5,-534.5 207.5,-534.5\"/>\n<text text-anchor=\"middle\" x=\"248.5\" y=\"-588.3\" font-family=\"Times,serif\" font-size=\"14.00\">x2*w2</text>\n<polyline fill=\"none\" stroke=\"black\" points=\"207.5,-580.5 289.5,-580.5\"/>\n<text text-anchor=\"middle\" x=\"248.5\" y=\"-565.3\" font-family=\"Times,serif\" font-size=\"14.00\">data 0.0000</text>\n<polyline fill=\"none\" stroke=\"black\" points=\"207.5,-557.5 289.5,-557.5\"/>\n<text text-anchor=\"middle\" x=\"248.5\" y=\"-542.3\" font-family=\"Times,serif\" font-size=\"14.00\">grad 0.6347</text>\n</g>\n<!-- 140295919962528&#45;&gt;140295919962672+ -->\n<g id=\"edge12\" class=\"edge\">\n<title>140295919962528&#45;&gt;140295919962672+</title>\n<path fill=\"none\" stroke=\"black\" d=\"M228.93,-534.61C223.58,-525.48 217.85,-515.72 212.78,-507.07\"/>\n<polygon fill=\"black\" stroke=\"black\" points=\"215.82,-505.34 207.75,-498.48 209.78,-508.88 215.82,-505.34\"/>\n</g>\n<!-- 140295919962528*&#45;&gt;140295919962528 -->\n<g id=\"edge4\" class=\"edge\">\n<title>140295919962528*&#45;&gt;140295919962528</title>\n<path fill=\"none\" stroke=\"black\" d=\"M248.5,-639.81C248.5,-632.5 248.5,-623.6 248.5,-614.63\"/>\n<polygon fill=\"black\" stroke=\"black\" points=\"252,-614.87 248.5,-604.87 245,-614.87 252,-614.87\"/>\n</g>\n<!-- 140295919963056 -->\n<g id=\"node14\" class=\"node\">\n<title>140295919963056</title>\n<polygon fill=\"none\" stroke=\"black\" points=\"207.5,-0.5 207.5,-69.5 289.5,-69.5 289.5,-0.5 207.5,-0.5\"/>\n<text text-anchor=\"middle\" x=\"248.5\" y=\"-54.3\" font-family=\"Times,serif\" font-size=\"14.00\">o</text>\n<polyline fill=\"none\" stroke=\"black\" points=\"207.5,-46.5 289.5,-46.5\"/>\n<text text-anchor=\"middle\" x=\"248.5\" y=\"-31.3\" font-family=\"Times,serif\" font-size=\"14.00\">data 0.6044</text>\n<polyline fill=\"none\" stroke=\"black\" points=\"207.5,-23.5 289.5,-23.5\"/>\n<text text-anchor=\"middle\" x=\"248.5\" y=\"-8.3\" font-family=\"Times,serif\" font-size=\"14.00\">grad 1.0000</text>\n</g>\n<!-- 140295919963056tanh&#45;&gt;140295919963056 -->\n<g id=\"edge5\" class=\"edge\">\n<title>140295919963056tanh&#45;&gt;140295919963056</title>\n<path fill=\"none\" stroke=\"black\" d=\"M248.5,-105.81C248.5,-98.5 248.5,-89.6 248.5,-80.63\"/>\n<polygon fill=\"black\" stroke=\"black\" points=\"252,-80.87 248.5,-70.87 245,-80.87 252,-80.87\"/>\n</g>\n</g>\n</svg>\n",
      "text/plain": [
       "<graphviz.graphs.Digraph at 0x7f99008ff9d0>"
      ]
     },
     "execution_count": 20,
     "metadata": {},
     "output_type": "execute_result"
    }
   ],
   "source": [
    "o.draw_dot()"
   ]
  },
  {
   "cell_type": "code",
   "execution_count": 21,
   "metadata": {},
   "outputs": [
    {
     "data": {
      "image/svg+xml": "<?xml version=\"1.0\" encoding=\"UTF-8\" standalone=\"no\"?>\n<!DOCTYPE svg PUBLIC \"-//W3C//DTD SVG 1.1//EN\"\n \"http://www.w3.org/Graphics/SVG/1.1/DTD/svg11.dtd\">\n<!-- Generated by graphviz version 7.1.0 (20230121.1956)\n -->\n<!-- Pages: 1 -->\n<svg width=\"93pt\" height=\"256pt\"\n viewBox=\"0.00 0.00 93.00 256.00\" xmlns=\"http://www.w3.org/2000/svg\" xmlns:xlink=\"http://www.w3.org/1999/xlink\">\n<g id=\"graph0\" class=\"graph\" transform=\"scale(1 1) rotate(0) translate(4 252)\">\n<polygon fill=\"white\" stroke=\"none\" points=\"-4,4 -4,-252 89,-252 89,4 -4,4\"/>\n<!-- 140295116885488 -->\n<g id=\"node1\" class=\"node\">\n<title>140295116885488</title>\n<polygon fill=\"none\" stroke=\"black\" points=\"0,-178.5 0,-247.5 85,-247.5 85,-178.5 0,-178.5\"/>\n<text text-anchor=\"middle\" x=\"42.5\" y=\"-232.3\" font-family=\"Times,serif\" font-size=\"14.00\"> </text>\n<polyline fill=\"none\" stroke=\"black\" points=\"0,-224.5 85,-224.5\"/>\n<text text-anchor=\"middle\" x=\"42.5\" y=\"-209.3\" font-family=\"Times,serif\" font-size=\"14.00\">data &#45;2.0000</text>\n<polyline fill=\"none\" stroke=\"black\" points=\"0,-201.5 85,-201.5\"/>\n<text text-anchor=\"middle\" x=\"42.5\" y=\"-186.3\" font-family=\"Times,serif\" font-size=\"14.00\">grad 2.0000</text>\n</g>\n<!-- 140295917749104+ -->\n<g id=\"node3\" class=\"node\">\n<title>140295917749104+</title>\n<ellipse fill=\"none\" stroke=\"black\" cx=\"42.5\" cy=\"-124\" rx=\"27\" ry=\"18\"/>\n<text text-anchor=\"middle\" x=\"42.5\" y=\"-120.3\" font-family=\"Times,serif\" font-size=\"14.00\">+</text>\n</g>\n<!-- 140295116885488&#45;&gt;140295917749104+ -->\n<g id=\"edge2\" class=\"edge\">\n<title>140295116885488&#45;&gt;140295917749104+</title>\n<path fill=\"none\" stroke=\"black\" d=\"M42.5,-178.61C42.5,-170.34 42.5,-161.55 42.5,-153.53\"/>\n<polygon fill=\"black\" stroke=\"black\" points=\"46,-153.64 42.5,-143.64 39,-153.64 46,-153.64\"/>\n</g>\n<!-- 140295917749104 -->\n<g id=\"node2\" class=\"node\">\n<title>140295917749104</title>\n<polygon fill=\"none\" stroke=\"black\" points=\"0,-0.5 0,-69.5 85,-69.5 85,-0.5 0,-0.5\"/>\n<text text-anchor=\"middle\" x=\"42.5\" y=\"-54.3\" font-family=\"Times,serif\" font-size=\"14.00\"> </text>\n<polyline fill=\"none\" stroke=\"black\" points=\"0,-46.5 85,-46.5\"/>\n<text text-anchor=\"middle\" x=\"42.5\" y=\"-31.3\" font-family=\"Times,serif\" font-size=\"14.00\">data &#45;4.0000</text>\n<polyline fill=\"none\" stroke=\"black\" points=\"0,-23.5 85,-23.5\"/>\n<text text-anchor=\"middle\" x=\"42.5\" y=\"-8.3\" font-family=\"Times,serif\" font-size=\"14.00\">grad 1.0000</text>\n</g>\n<!-- 140295917749104+&#45;&gt;140295917749104 -->\n<g id=\"edge1\" class=\"edge\">\n<title>140295917749104+&#45;&gt;140295917749104</title>\n<path fill=\"none\" stroke=\"black\" d=\"M42.5,-105.81C42.5,-98.5 42.5,-89.6 42.5,-80.63\"/>\n<polygon fill=\"black\" stroke=\"black\" points=\"46,-80.87 42.5,-70.87 39,-80.87 46,-80.87\"/>\n</g>\n</g>\n</svg>\n",
      "text/plain": [
       "<graphviz.graphs.Digraph at 0x7f9930574b50>"
      ]
     },
     "execution_count": 21,
     "metadata": {},
     "output_type": "execute_result"
    }
   ],
   "source": [
    "z = Value(-2.0)\n",
    "c = z + z \n",
    "c.backward()\n",
    "c.draw_dot()"
   ]
  },
  {
   "cell_type": "code",
   "execution_count": 22,
   "metadata": {},
   "outputs": [],
   "source": [
    "a = Value(2)\n",
    "b = Value(3)\n",
    "\n",
    "c = a-b\n",
    "c.grad=1\n",
    "c.backward()\n"
   ]
  },
  {
   "cell_type": "code",
   "execution_count": 23,
   "metadata": {},
   "outputs": [
    {
     "data": {
      "image/svg+xml": "<?xml version=\"1.0\" encoding=\"UTF-8\" standalone=\"no\"?>\n<!DOCTYPE svg PUBLIC \"-//W3C//DTD SVG 1.1//EN\"\n \"http://www.w3.org/Graphics/SVG/1.1/DTD/svg11.dtd\">\n<!-- Generated by graphviz version 7.1.0 (20230121.1956)\n -->\n<!-- Pages: 1 -->\n<svg width=\"246pt\" height=\"434pt\"\n viewBox=\"0.00 0.00 246.00 434.00\" xmlns=\"http://www.w3.org/2000/svg\" xmlns:xlink=\"http://www.w3.org/1999/xlink\">\n<g id=\"graph0\" class=\"graph\" transform=\"scale(1 1) rotate(0) translate(4 430)\">\n<polygon fill=\"white\" stroke=\"none\" points=\"-4,4 -4,-430 242,-430 242,4 -4,4\"/>\n<!-- 140295116208208 -->\n<g id=\"node1\" class=\"node\">\n<title>140295116208208</title>\n<polygon fill=\"none\" stroke=\"black\" points=\"0,-356.5 0,-425.5 86,-425.5 86,-356.5 0,-356.5\"/>\n<text text-anchor=\"middle\" x=\"43\" y=\"-410.3\" font-family=\"Times,serif\" font-size=\"14.00\"> </text>\n<polyline fill=\"none\" stroke=\"black\" points=\"0,-402.5 86,-402.5\"/>\n<text text-anchor=\"middle\" x=\"43\" y=\"-387.3\" font-family=\"Times,serif\" font-size=\"14.00\">data 3.0000</text>\n<polyline fill=\"none\" stroke=\"black\" points=\"0,-379.5 86,-379.5\"/>\n<text text-anchor=\"middle\" x=\"43\" y=\"-364.3\" font-family=\"Times,serif\" font-size=\"14.00\">grad &#45;1.0000</text>\n</g>\n<!-- 140295116135728* -->\n<g id=\"node7\" class=\"node\">\n<title>140295116135728*</title>\n<ellipse fill=\"none\" stroke=\"black\" cx=\"95\" cy=\"-302\" rx=\"27\" ry=\"18\"/>\n<text text-anchor=\"middle\" x=\"95\" y=\"-298.3\" font-family=\"Times,serif\" font-size=\"14.00\">*</text>\n</g>\n<!-- 140295116208208&#45;&gt;140295116135728* -->\n<g id=\"edge4\" class=\"edge\">\n<title>140295116208208&#45;&gt;140295116135728*</title>\n<path fill=\"none\" stroke=\"black\" d=\"M62.96,-356.61C68.47,-347.38 74.37,-337.51 79.59,-328.78\"/>\n<polygon fill=\"black\" stroke=\"black\" points=\"82.43,-330.85 84.56,-320.47 76.42,-327.26 82.43,-330.85\"/>\n</g>\n<!-- 140295919849088 -->\n<g id=\"node2\" class=\"node\">\n<title>140295919849088</title>\n<polygon fill=\"none\" stroke=\"black\" points=\"103.5,-0.5 103.5,-69.5 188.5,-69.5 188.5,-0.5 103.5,-0.5\"/>\n<text text-anchor=\"middle\" x=\"146\" y=\"-54.3\" font-family=\"Times,serif\" font-size=\"14.00\"> </text>\n<polyline fill=\"none\" stroke=\"black\" points=\"103.5,-46.5 188.5,-46.5\"/>\n<text text-anchor=\"middle\" x=\"146\" y=\"-31.3\" font-family=\"Times,serif\" font-size=\"14.00\">data &#45;1.0000</text>\n<polyline fill=\"none\" stroke=\"black\" points=\"103.5,-23.5 188.5,-23.5\"/>\n<text text-anchor=\"middle\" x=\"146\" y=\"-8.3\" font-family=\"Times,serif\" font-size=\"14.00\">grad 1.0000</text>\n</g>\n<!-- 140295919849088+ -->\n<g id=\"node3\" class=\"node\">\n<title>140295919849088+</title>\n<ellipse fill=\"none\" stroke=\"black\" cx=\"146\" cy=\"-124\" rx=\"27\" ry=\"18\"/>\n<text text-anchor=\"middle\" x=\"146\" y=\"-120.3\" font-family=\"Times,serif\" font-size=\"14.00\">+</text>\n</g>\n<!-- 140295919849088+&#45;&gt;140295919849088 -->\n<g id=\"edge1\" class=\"edge\">\n<title>140295919849088+&#45;&gt;140295919849088</title>\n<path fill=\"none\" stroke=\"black\" d=\"M146,-105.81C146,-98.5 146,-89.6 146,-80.63\"/>\n<polygon fill=\"black\" stroke=\"black\" points=\"149.5,-80.87 146,-70.87 142.5,-80.87 149.5,-80.87\"/>\n</g>\n<!-- 140295116135632 -->\n<g id=\"node4\" class=\"node\">\n<title>140295116135632</title>\n<polygon fill=\"none\" stroke=\"black\" points=\"104.5,-356.5 104.5,-425.5 189.5,-425.5 189.5,-356.5 104.5,-356.5\"/>\n<text text-anchor=\"middle\" x=\"147\" y=\"-410.3\" font-family=\"Times,serif\" font-size=\"14.00\"> </text>\n<polyline fill=\"none\" stroke=\"black\" points=\"104.5,-402.5 189.5,-402.5\"/>\n<text text-anchor=\"middle\" x=\"147\" y=\"-387.3\" font-family=\"Times,serif\" font-size=\"14.00\">data &#45;1.0000</text>\n<polyline fill=\"none\" stroke=\"black\" points=\"104.5,-379.5 189.5,-379.5\"/>\n<text text-anchor=\"middle\" x=\"147\" y=\"-364.3\" font-family=\"Times,serif\" font-size=\"14.00\">grad 3.0000</text>\n</g>\n<!-- 140295116135632&#45;&gt;140295116135728* -->\n<g id=\"edge5\" class=\"edge\">\n<title>140295116135632&#45;&gt;140295116135728*</title>\n<path fill=\"none\" stroke=\"black\" d=\"M127.04,-356.61C121.53,-347.38 115.63,-337.51 110.41,-328.78\"/>\n<polygon fill=\"black\" stroke=\"black\" points=\"113.58,-327.26 105.44,-320.47 107.57,-330.85 113.58,-327.26\"/>\n</g>\n<!-- 140295384129248 -->\n<g id=\"node5\" class=\"node\">\n<title>140295384129248</title>\n<polygon fill=\"none\" stroke=\"black\" points=\"156,-178.5 156,-247.5 238,-247.5 238,-178.5 156,-178.5\"/>\n<text text-anchor=\"middle\" x=\"197\" y=\"-232.3\" font-family=\"Times,serif\" font-size=\"14.00\"> </text>\n<polyline fill=\"none\" stroke=\"black\" points=\"156,-224.5 238,-224.5\"/>\n<text text-anchor=\"middle\" x=\"197\" y=\"-209.3\" font-family=\"Times,serif\" font-size=\"14.00\">data 2.0000</text>\n<polyline fill=\"none\" stroke=\"black\" points=\"156,-201.5 238,-201.5\"/>\n<text text-anchor=\"middle\" x=\"197\" y=\"-186.3\" font-family=\"Times,serif\" font-size=\"14.00\">grad 1.0000</text>\n</g>\n<!-- 140295384129248&#45;&gt;140295919849088+ -->\n<g id=\"edge3\" class=\"edge\">\n<title>140295384129248&#45;&gt;140295919849088+</title>\n<path fill=\"none\" stroke=\"black\" d=\"M177.43,-178.61C172.08,-169.48 166.35,-159.72 161.28,-151.07\"/>\n<polygon fill=\"black\" stroke=\"black\" points=\"164.32,-149.34 156.25,-142.48 158.28,-152.88 164.32,-149.34\"/>\n</g>\n<!-- 140295116135728 -->\n<g id=\"node6\" class=\"node\">\n<title>140295116135728</title>\n<polygon fill=\"none\" stroke=\"black\" points=\"52.5,-178.5 52.5,-247.5 137.5,-247.5 137.5,-178.5 52.5,-178.5\"/>\n<text text-anchor=\"middle\" x=\"95\" y=\"-232.3\" font-family=\"Times,serif\" font-size=\"14.00\"> </text>\n<polyline fill=\"none\" stroke=\"black\" points=\"52.5,-224.5 137.5,-224.5\"/>\n<text text-anchor=\"middle\" x=\"95\" y=\"-209.3\" font-family=\"Times,serif\" font-size=\"14.00\">data &#45;3.0000</text>\n<polyline fill=\"none\" stroke=\"black\" points=\"52.5,-201.5 137.5,-201.5\"/>\n<text text-anchor=\"middle\" x=\"95\" y=\"-186.3\" font-family=\"Times,serif\" font-size=\"14.00\">grad 1.0000</text>\n</g>\n<!-- 140295116135728&#45;&gt;140295919849088+ -->\n<g id=\"edge6\" class=\"edge\">\n<title>140295116135728&#45;&gt;140295919849088+</title>\n<path fill=\"none\" stroke=\"black\" d=\"M114.57,-178.61C119.92,-169.48 125.65,-159.72 130.72,-151.07\"/>\n<polygon fill=\"black\" stroke=\"black\" points=\"133.72,-152.88 135.75,-142.48 127.68,-149.34 133.72,-152.88\"/>\n</g>\n<!-- 140295116135728*&#45;&gt;140295116135728 -->\n<g id=\"edge2\" class=\"edge\">\n<title>140295116135728*&#45;&gt;140295116135728</title>\n<path fill=\"none\" stroke=\"black\" d=\"M95,-283.81C95,-276.5 95,-267.6 95,-258.63\"/>\n<polygon fill=\"black\" stroke=\"black\" points=\"98.5,-258.87 95,-248.87 91.5,-258.87 98.5,-258.87\"/>\n</g>\n</g>\n</svg>\n",
      "text/plain": [
       "<graphviz.graphs.Digraph at 0x7f99005743d0>"
      ]
     },
     "execution_count": 23,
     "metadata": {},
     "output_type": "execute_result"
    }
   ],
   "source": [
    "c.draw_dot()"
   ]
  },
  {
   "cell_type": "code",
   "execution_count": 25,
   "metadata": {},
   "outputs": [
    {
     "data": {
      "text/plain": [
       "Value(data=0.2689414213699951)"
      ]
     },
     "execution_count": 25,
     "metadata": {},
     "output_type": "execute_result"
    }
   ],
   "source": [
    "c.sigmoid()"
   ]
  },
  {
   "attachments": {},
   "cell_type": "markdown",
   "metadata": {},
   "source": [
    "## pytorch example"
   ]
  },
  {
   "cell_type": "code",
   "execution_count": null,
   "metadata": {},
   "outputs": [],
   "source": [
    "import torch \n",
    "\n",
    "x1 = torch.Tensor([2.]).double(); x1.requires_grad=True \n",
    "x2 = torch.Tensor([0.]).double(); x2.requires_grad=True \n",
    "w1 = torch.Tensor([-3.]).double(); w1.requires_grad=True \n",
    "w2 = torch.Tensor([1.]).double(); w2.requires_grad=True \n",
    "b = torch.Tensor([6.8813]).double(); b.requires_grad=True \n",
    "n = x1*w1 + x2*w2 + b \n",
    "o = torch.tanh(n)\n",
    "o.backward()\n",
    "\n",
    "for i in [x2,w2,x1,w1]:\n",
    "    print(i.grad)\n"
   ]
  },
  {
   "cell_type": "code",
   "execution_count": null,
   "metadata": {},
   "outputs": [],
   "source": []
  }
 ],
 "metadata": {
  "kernelspec": {
   "display_name": "gympy",
   "language": "python",
   "name": "python3"
  },
  "language_info": {
   "codemirror_mode": {
    "name": "ipython",
    "version": 3
   },
   "file_extension": ".py",
   "mimetype": "text/x-python",
   "name": "python",
   "nbconvert_exporter": "python",
   "pygments_lexer": "ipython3",
   "version": "3.8.11"
  },
  "orig_nbformat": 4,
  "vscode": {
   "interpreter": {
    "hash": "6b1510ee8f2d33dbc1ff919b274e2f79c750a84b1c2aee7db15b91e460600623"
   }
  }
 },
 "nbformat": 4,
 "nbformat_minor": 2
}
