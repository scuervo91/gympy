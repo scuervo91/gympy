{
    "cells": [
        {
            "cell_type": "code",
            "execution_count": 1,
            "source": [
                "## Digits"
            ],
            "outputs": [],
            "metadata": {}
        },
        {
            "cell_type": "code",
            "execution_count": 2,
            "source": [
                "from sklearn.datasets import load_digits\n",
                "import numpy as np\n",
                "import pandas as pd\n",
                "import matplotlib.pyplot as plt\n",
                "from sklearn.datasets import make_classification\n",
                "from gympy.layers import Linear, Relu, Sigmoid, Softmax, Tanh\n",
                "from gympy.networks import NeuralNetwork, DataSet\n",
                "from gympy.optimizers import RMSprop\n",
                "from gympy.loss import CategoricalCrossEntropy, Accuracy\n",
                "import seaborn as sns\n",
                "from sklearn.preprocessing import OneHotEncoder, StandardScaler\n",
                "from sklearn.model_selection import train_test_split\n"
            ],
            "outputs": [],
            "metadata": {}
        },
        {
            "cell_type": "code",
            "execution_count": 3,
            "source": [
                "digits = load_digits()"
            ],
            "outputs": [],
            "metadata": {}
        },
        {
            "cell_type": "code",
            "execution_count": 4,
            "source": [
                "X_train, X_test, y_train, y_test = train_test_split(digits.data, digits.target)\n",
                "X_train.shape"
            ],
            "outputs": [
                {
                    "output_type": "execute_result",
                    "data": {
                        "text/plain": [
                            "(1347, 64)"
                        ]
                    },
                    "metadata": {},
                    "execution_count": 4
                }
            ],
            "metadata": {}
        },
        {
            "cell_type": "code",
            "execution_count": 5,
            "source": [
                "Y = OneHotEncoder(sparse=False).fit_transform(y_train.reshape(-1,1)).T\n",
                "Y.shape"
            ],
            "outputs": [
                {
                    "output_type": "execute_result",
                    "data": {
                        "text/plain": [
                            "(10, 1347)"
                        ]
                    },
                    "metadata": {},
                    "execution_count": 5
                }
            ],
            "metadata": {}
        },
        {
            "cell_type": "code",
            "execution_count": 6,
            "source": [
                "X = StandardScaler().fit_transform(X_train).T\n",
                "print(X.shape)\n"
            ],
            "outputs": [
                {
                    "output_type": "stream",
                    "name": "stdout",
                    "text": [
                        "(64, 1347)\n"
                    ]
                }
            ],
            "metadata": {}
        },
        {
            "cell_type": "code",
            "execution_count": 7,
            "source": [
                "\n",
                "n_iter=390\n",
                "model = NeuralNetwork(\n",
                "    layers = [\n",
                "        Tanh(n_input=64, n_output=32, dropout_rate=0.0),\n",
                "        Softmax(n_input=32, n_output=10)\n",
                "    ],\n",
                "    optimizer = RMSprop(learning_rate=1e-2,momentum=0.9),\n",
                "    loss = CategoricalCrossEntropy(),\n",
                "    n_iter=n_iter\n",
                ")"
            ],
            "outputs": [],
            "metadata": {}
        },
        {
            "cell_type": "code",
            "execution_count": 8,
            "source": [
                "tt = model.forward(X[:,0:1])\n",
                "tt"
            ],
            "outputs": [
                {
                    "output_type": "execute_result",
                    "data": {
                        "text/plain": [
                            "array([[0.10003199],\n",
                            "       [0.09864784],\n",
                            "       [0.10146469],\n",
                            "       [0.10042798],\n",
                            "       [0.10034863],\n",
                            "       [0.10008715],\n",
                            "       [0.10013378],\n",
                            "       [0.10007575],\n",
                            "       [0.098834  ],\n",
                            "       [0.0999482 ]])"
                        ]
                    },
                    "metadata": {},
                    "execution_count": 8
                }
            ],
            "metadata": {}
        },
        {
            "cell_type": "code",
            "execution_count": 9,
            "source": [
                "yy = Y[:,0:1]\n",
                "yy"
            ],
            "outputs": [
                {
                    "output_type": "execute_result",
                    "data": {
                        "text/plain": [
                            "array([[0.],\n",
                            "       [0.],\n",
                            "       [0.],\n",
                            "       [0.],\n",
                            "       [0.],\n",
                            "       [0.],\n",
                            "       [0.],\n",
                            "       [0.],\n",
                            "       [1.],\n",
                            "       [0.]])"
                        ]
                    },
                    "metadata": {},
                    "execution_count": 9
                }
            ],
            "metadata": {}
        },
        {
            "cell_type": "code",
            "execution_count": 10,
            "source": [
                "np.log(0.5)"
            ],
            "outputs": [
                {
                    "output_type": "execute_result",
                    "data": {
                        "text/plain": [
                            "-0.6931471805599453"
                        ]
                    },
                    "metadata": {},
                    "execution_count": 10
                }
            ],
            "metadata": {}
        },
        {
            "cell_type": "code",
            "execution_count": 11,
            "source": [
                "CategoricalCrossEntropy().forward(tt, Y[:,0:1])"
            ],
            "outputs": [
                {
                    "output_type": "execute_result",
                    "data": {
                        "text/plain": [
                            "2.314313630571727"
                        ]
                    },
                    "metadata": {},
                    "execution_count": 11
                }
            ],
            "metadata": {}
        },
        {
            "cell_type": "code",
            "execution_count": 12,
            "source": [
                "\n",
                "dataset = DataSet(\n",
                "    x = X,\n",
                "    y = Y,\n",
                "    batch_size=64\n",
                ")\n"
            ],
            "outputs": [],
            "metadata": {}
        },
        {
            "cell_type": "code",
            "execution_count": 13,
            "source": [
                "for i in model.get_bias():\n",
                "    print(i.shape)"
            ],
            "outputs": [
                {
                    "output_type": "stream",
                    "name": "stdout",
                    "text": [
                        "(32, 1)\n",
                        "(10, 1)\n"
                    ]
                }
            ],
            "metadata": {}
        },
        {
            "cell_type": "code",
            "execution_count": 14,
            "source": [
                "n_iter=5000\n",
                "model.train_dataset(dataset, show=100, n_epochs=500)\n",
                "plt.plot(model.cost)"
            ],
            "outputs": [
                {
                    "output_type": "stream",
                    "name": "stdout",
                    "text": [
                        "<class 'gympy.optimizers.optimizers.RMSprop'>\n",
                        "0 cost 0.34532626581621945 iter 22\n",
                        "100 cost 5.781909150234908e-09 iter 2122\n",
                        "200 cost 2.417256861497499e-09 iter 4222\n",
                        "300 cost 1.5139888847294393e-09 iter 6322\n",
                        "400 cost 1.097009052826871e-09 iter 8422\n"
                    ]
                },
                {
                    "output_type": "execute_result",
                    "data": {
                        "text/plain": [
                            "[<matplotlib.lines.Line2D at 0x7f25adb168b0>]"
                        ]
                    },
                    "metadata": {},
                    "execution_count": 14
                },
                {
                    "output_type": "display_data",
                    "data": {
                        "image/png": "[encoded data removed]",
                        "text/plain": [
                            "<Figure size 432x288 with 1 Axes>"
                        ]
                    },
                    "metadata": {
                        "needs_background": "light"
                    }
                }
            ],
            "metadata": {}
        },
        {
            "cell_type": "code",
            "execution_count": 15,
            "source": [
                "model.forward(X[:,[453]])"
            ],
            "outputs": [
                {
                    "output_type": "execute_result",
                    "data": {
                        "text/plain": [
                            "array([[8.02766924e-14],\n",
                            "       [6.93634453e-21],\n",
                            "       [1.37049859e-18],\n",
                            "       [3.66799546e-11],\n",
                            "       [9.55328168e-23],\n",
                            "       [2.62452245e-14],\n",
                            "       [5.49036819e-24],\n",
                            "       [2.69221554e-18],\n",
                            "       [1.01135897e-15],\n",
                            "       [1.00000000e+00]])"
                        ]
                    },
                    "metadata": {},
                    "execution_count": 15
                }
            ],
            "metadata": {}
        },
        {
            "cell_type": "code",
            "execution_count": 16,
            "source": [
                "test_idx = np.random.choice(X.shape[1],16, replace=False)"
            ],
            "outputs": [],
            "metadata": {}
        },
        {
            "cell_type": "code",
            "execution_count": 17,
            "source": [
                "prob = model.forward(X[:,test_idx])\n",
                "pred = np.argmax(prob,axis=0)\n",
                "\n",
                "true_vals = np.argmax(Y[:,test_idx], axis=0)"
            ],
            "outputs": [],
            "metadata": {}
        },
        {
            "cell_type": "code",
            "execution_count": 18,
            "source": [
                "fig, axes = plt.subplots(4,4, figsize=(15,15))\n",
                "\n",
                "for i,(idx, ax) in enumerate(zip(test_idx, axes.flatten())):\n",
                "    ax.imshow(X[:,idx].reshape(8,8), cmap=plt.cm.gray_r, interpolation='nearest')\n",
                "    ax.set_title(f'Real: {true_vals[i]} / Pred: {pred[i]}')"
            ],
            "outputs": [
                {
                    "output_type": "display_data",
                    "data": {
                        "image/png": "[encoded data removed]",
                        "text/plain": [
                            "<Figure size 1080x1080 with 16 Axes>"
                        ]
                    },
                    "metadata": {
                        "needs_background": "light"
                    }
                }
            ],
            "metadata": {}
        },
        {
            "cell_type": "code",
            "execution_count": 19,
            "source": [
                "prob_total = model.forward(X)\n",
                "pred_total = np.argmax(prob_total,axis=0)\n",
                "true_vals_total = np.argmax(Y, axis=0)\n",
                "\n",
                "acc = Accuracy()\n",
                "acc.forward(prob_total, Y)"
            ],
            "outputs": [
                {
                    "output_type": "execute_result",
                    "data": {
                        "text/plain": [
                            "1.0"
                        ]
                    },
                    "metadata": {},
                    "execution_count": 19
                }
            ],
            "metadata": {}
        }
    ],
    "metadata": {
        "orig_nbformat": 4,
        "language_info": {
            "name": "python",
            "version": "3.8.10",
            "mimetype": "text/x-python",
            "codemirror_mode": {
                "name": "ipython",
                "version": 3
            },
            "pygments_lexer": "ipython3",
            "nbconvert_exporter": "python",
            "file_extension": ".py"
        },
        "kernelspec": {
            "name": "python3",
            "display_name": "Python 3.8.10 64-bit ('gympy': conda)"
        },
        "interpreter": {
            "hash": "10a1b8923dad54afa7cf2eec9222fa5c3403966362abd08120ec5aed115b54bc"
        }
    },
    "nbformat": 4,
    "nbformat_minor": 2
}