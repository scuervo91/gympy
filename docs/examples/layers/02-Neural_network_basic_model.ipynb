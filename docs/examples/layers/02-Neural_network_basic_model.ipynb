{
    "cells": [
        {
            "cell_type": "code",
            "execution_count": 7,
            "source": [
                "## Neural network"
            ],
            "outputs": [],
            "metadata": {}
        },
        {
            "cell_type": "code",
            "execution_count": 8,
            "source": [
                "import numpy as np\n",
                "import matplotlib.pyplot as plt\n",
                "from sklearn.datasets import make_regression\n",
                "from gympy.layers import Linear, Relu, Sigmoid, relu, sigmoid, linear, tanh, Tanh\n",
                "from gympy.networks import NeuralNetwork\n",
                "from gympy.optimizers import GradientDescent"
            ],
            "outputs": [],
            "metadata": {}
        },
        {
            "cell_type": "code",
            "execution_count": 9,
            "source": [
                "bias = np.zeros(1)\n",
                "x, y, w = make_regression(\n",
                "    n_samples=100,\n",
                "    n_features=1,\n",
                "    n_informative=1,\n",
                "    n_targets=1,\n",
                "    noise=20,\n",
                "    coef=True,\n",
                "    random_state=21,\n",
                "    bias=bias)\n",
                "\n",
                "print(f'x {x.shape}')\n",
                "print(f'y {y.shape}')\n",
                "print(f'w {w.shape}')\n",
                "print(f'b {bias.shape}')\n",
                "w"
            ],
            "outputs": [
                {
                    "output_type": "stream",
                    "name": "stdout",
                    "text": [
                        "x (100, 1)\n",
                        "y (100,)\n",
                        "w ()\n",
                        "b (1,)\n"
                    ]
                },
                {
                    "output_type": "execute_result",
                    "data": {
                        "text/plain": [
                            "array(28.41432722)"
                        ]
                    },
                    "metadata": {},
                    "execution_count": 9
                }
            ],
            "metadata": {}
        },
        {
            "cell_type": "code",
            "execution_count": 10,
            "source": [
                "plt.scatter(x, y)"
            ],
            "outputs": [
                {
                    "output_type": "execute_result",
                    "data": {
                        "text/plain": [
                            "<matplotlib.collections.PathCollection at 0x7f63d4e069d0>"
                        ]
                    },
                    "metadata": {},
                    "execution_count": 10
                },
                {
                    "output_type": "display_data",
                    "data": {
                        "text/plain": [
                            "<Figure size 432x288 with 1 Axes>"
                        ],
                        "image/png": "[encoded data removed]"
                    },
                    "metadata": {
                        "needs_background": "light"
                    }
                }
            ],
            "metadata": {}
        },
        {
            "cell_type": "code",
            "execution_count": 11,
            "source": [
                "model = NeuralNetwork(\n",
                "    layers = [\n",
                "        Linear(\n",
                "            n_input = 1,\n",
                "            n_output = 1,\n",
                "            weights = np.atleast_2d(w),\n",
                "            bias = bias.reshape(-1,1)\n",
                "        )\n",
                "    ],\n",
                "    optimizer = GradientDescent()\n",
                ")"
            ],
            "outputs": [],
            "metadata": {}
        },
        {
            "cell_type": "code",
            "execution_count": 12,
            "source": [
                "y_model = model.forward(x.T)"
            ],
            "outputs": [],
            "metadata": {}
        },
        {
            "cell_type": "code",
            "execution_count": 13,
            "source": [
                "plt.plot(x.flatten(),y_model.flatten())\n",
                "plt.scatter(x, y)"
            ],
            "outputs": [
                {
                    "output_type": "execute_result",
                    "data": {
                        "text/plain": [
                            "<matplotlib.collections.PathCollection at 0x7f63d4d8b130>"
                        ]
                    },
                    "metadata": {},
                    "execution_count": 13
                },
                {
                    "output_type": "display_data",
                    "data": {
                        "text/plain": [
                            "<Figure size 432x288 with 1 Axes>"
                        ],
                        "image/png": "[encoded data removed]"
                    },
                    "metadata": {
                        "needs_background": "light"
                    }
                }
            ],
            "metadata": {}
        },
        {
            "cell_type": "code",
            "execution_count": 14,
            "source": [
                "model.cache"
            ],
            "outputs": [
                {
                    "output_type": "execute_result",
                    "data": {
                        "text/plain": [
                            "[array([[ 0.21020722,  0.06400443,  2.60281328,  1.2444828 , -0.28522504,\n",
                            "          1.16901462, -0.11119605, -1.4273776 ,  0.43430789,  0.23180296,\n",
                            "          0.34630878, -0.44768243,  1.55026502, -0.46401872,  1.3736885 ,\n",
                            "          1.17855621,  0.16234247,  0.7476816 ,  0.42420703, -1.18143446,\n",
                            "         -0.52651551,  0.37670281,  0.2966812 ,  0.74538768, -1.18088052,\n",
                            "          2.51989837,  1.61099198,  2.01079281,  1.32463768, -0.92686366,\n",
                            "          0.28504581,  0.70520358, -0.42330083,  0.40272379, -0.98936839,\n",
                            "          0.8521227 ,  0.24496394, -0.36883019, -0.11608402, -0.25786723,\n",
                            "         -0.02383635,  0.57370894, -0.13438498,  0.56022963, -1.05381731,\n",
                            "          0.41516187, -0.55791623,  0.48036943,  0.22075339,  0.25722913,\n",
                            "          1.84561511,  0.76541945, -0.12948877, -1.50908235, -0.39253041,\n",
                            "         -1.06185662, -0.01262595,  0.69192371,  0.95256771, -1.19454337,\n",
                            "         -0.27642765, -0.68922827, -1.98327783, -0.6939358 ,  2.7550033 ,\n",
                            "          0.74730849,  1.56788218, -1.47644212,  1.06822315,  1.90273993,\n",
                            "         -1.25673929, -0.45772323,  1.00090218,  1.0417968 , -1.7473338 ,\n",
                            "         -0.38584597, -1.38395687,  0.92011457,  0.64415927, -0.23457129,\n",
                            "         -0.05196425,  0.57043758,  1.12814404, -2.85968799,  0.76465008,\n",
                            "         -1.71105376, -1.27545586, -1.40459035,  1.03361263, -0.61320029,\n",
                            "         -0.4481156 ,  0.22409714, -0.33326642, -1.04126664, -1.98418161,\n",
                            "         -0.40632407, -0.20586438,  1.67955097,  0.51561395,  0.6971766 ]]),\n",
                            " array([[  5.97289686,   1.81864296,  73.95718818,  35.36114144,\n",
                            "          -8.10447761,  33.21676379,  -3.15956096, -40.55797433,\n",
                            "          12.34056664,   6.58652515,   9.84013105, -12.72059512,\n",
                            "          44.04973765, -13.18477971,  39.03243453,  33.48788168,\n",
                            "           4.61285197,  21.24486975,  12.05355724, -33.5696653 ,\n",
                            "         -14.96058385,  10.70375692,   8.42999662,  21.17968949,\n",
                            "         -33.55392546,  71.60121671,  45.77525316,  57.13532482,\n",
                            "          37.63868836, -26.33620728,   8.09938502,  20.03788521,\n",
                            "         -12.02780838,  11.44312558, -28.11223727,  24.21249309,\n",
                            "           6.96048561, -10.48006161,  -3.29844928,  -7.32712387,\n",
                            "          -0.67729391,  16.30155345,  -3.81845889,  15.91854798,\n",
                            "         -29.94350974,  11.79654534, -15.85281432,  13.64937404,\n",
                            "           6.27255896,   7.30899279,  52.44191175,  21.74887862,\n",
                            "          -3.67933618, -42.87955981, -11.1534874 , -30.17194141,\n",
                            "          -0.35875792,  19.66054672,  27.06657056, -33.94214617,\n",
                            "          -7.85450558, -19.58395763, -56.35350518, -19.71771891,\n",
                            "          78.28156517,  21.23426804,  44.55031721, -41.95210957,\n",
                            "          30.35284225,  54.06507497, -35.70940153, -13.00589752,\n",
                            "          28.43996197,  29.60195514, -49.64931422, -10.9635537 ,\n",
                            "         -39.32420332,  26.14443644,  18.3033524 ,  -6.66518542,\n",
                            "          -1.47652919,  16.20859994,  32.05545401, -81.25611017,\n",
                            "          21.72701768, -48.61844145, -36.24122014, -39.91048983,\n",
                            "          29.36940761, -17.4236736 , -12.73290336,   6.36756945,\n",
                            "          -9.46954108, -29.5868909 , -56.37918565, -11.54542515,\n",
                            "          -5.8494979 ,  47.72331096,  14.65082359,  19.80980397]])]"
                        ]
                    },
                    "metadata": {},
                    "execution_count": 14
                }
            ],
            "metadata": {}
        },
        {
            "cell_type": "code",
            "execution_count": null,
            "source": [],
            "outputs": [],
            "metadata": {}
        }
    ],
    "metadata": {
        "orig_nbformat": 4,
        "language_info": {
            "name": "python",
            "version": "3.8.10",
            "mimetype": "text/x-python",
            "codemirror_mode": {
                "name": "ipython",
                "version": 3
            },
            "pygments_lexer": "ipython3",
            "nbconvert_exporter": "python",
            "file_extension": ".py"
        },
        "kernelspec": {
            "name": "python3",
            "display_name": "Python 3.8.10 64-bit ('gympy': conda)"
        },
        "interpreter": {
            "hash": "10a1b8923dad54afa7cf2eec9222fa5c3403966362abd08120ec5aed115b54bc"
        }
    },
    "nbformat": 4,
    "nbformat_minor": 2
}