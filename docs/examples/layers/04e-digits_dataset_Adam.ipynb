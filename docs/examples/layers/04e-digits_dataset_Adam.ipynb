{
    "cells": [
        {
            "cell_type": "code",
            "execution_count": 1,
            "metadata": {},
            "outputs": [],
            "source": [
                "## Digits"
            ]
        },
        {
            "cell_type": "code",
            "execution_count": 2,
            "metadata": {},
            "outputs": [],
            "source": [
                "from sklearn.datasets import load_digits\n",
                "import numpy as np\n",
                "import pandas as pd\n",
                "import matplotlib.pyplot as plt\n",
                "from sklearn.datasets import make_classification\n",
                "from gympy.layers import Linear, Relu, Sigmoid, Softmax, Tanh\n",
                "from gympy.networks import NeuralNetwork, DataSet\n",
                "from gympy.optimizers import Adam, TimeDecay, ExponentialDecay\n",
                "from gympy.loss import CategoricalCrossEntropy, Accuracy\n",
                "import seaborn as sns\n",
                "from sklearn.preprocessing import OneHotEncoder, StandardScaler\n",
                "from sklearn.model_selection import train_test_split\n"
            ]
        },
        {
            "cell_type": "code",
            "execution_count": 3,
            "metadata": {},
            "outputs": [],
            "source": [
                "digits = load_digits()"
            ]
        },
        {
            "cell_type": "code",
            "execution_count": 4,
            "metadata": {},
            "outputs": [
                {
                    "data": {
                        "text/plain": [
                            "(1347, 64)"
                        ]
                    },
                    "execution_count": 4,
                    "metadata": {},
                    "output_type": "execute_result"
                }
            ],
            "source": [
                "X_train, X_test, y_train, y_test = train_test_split(digits.data, digits.target)\n",
                "X_train.shape"
            ]
        },
        {
            "cell_type": "code",
            "execution_count": 5,
            "metadata": {},
            "outputs": [
                {
                    "data": {
                        "text/plain": [
                            "(10, 1347)"
                        ]
                    },
                    "execution_count": 5,
                    "metadata": {},
                    "output_type": "execute_result"
                }
            ],
            "source": [
                "Y = OneHotEncoder(sparse=False).fit_transform(y_train.reshape(-1,1)).T\n",
                "Y.shape"
            ]
        },
        {
            "cell_type": "code",
            "execution_count": 6,
            "metadata": {},
            "outputs": [
                {
                    "name": "stdout",
                    "output_type": "stream",
                    "text": [
                        "(64, 1347)\n"
                    ]
                }
            ],
            "source": [
                "X = StandardScaler().fit_transform(X_train).T\n",
                "print(X.shape)\n"
            ]
        },
        {
            "cell_type": "code",
            "execution_count": 7,
            "metadata": {},
            "outputs": [],
            "source": [
                "\n",
                "n_iter=390\n",
                "model = NeuralNetwork(\n",
                "    layers = [\n",
                "        Tanh(n_input=64, n_output=32, dropout_rate=0.0),\n",
                "        Softmax(n_input=32, n_output=10)\n",
                "    ],\n",
                "    optimizer = Adam(\n",
                "        learning_rate=0.02, \n",
                "        beta1=0.8, \n",
                "        beta2=0.88,\n",
                "        decay= ExponentialDecay(rate=0.95)\n",
                "        ),\n",
                "    loss = CategoricalCrossEntropy(),\n",
                "    n_iter=n_iter\n",
                ")"
            ]
        },
        {
            "cell_type": "code",
            "execution_count": 8,
            "metadata": {},
            "outputs": [
                {
                    "data": {
                        "text/plain": [
                            "array([[0.10161022],\n",
                            "       [0.09877776],\n",
                            "       [0.10044242],\n",
                            "       [0.09868257],\n",
                            "       [0.09923166],\n",
                            "       [0.10101767],\n",
                            "       [0.10064498],\n",
                            "       [0.09916973],\n",
                            "       [0.10199545],\n",
                            "       [0.09842755]])"
                        ]
                    },
                    "execution_count": 8,
                    "metadata": {},
                    "output_type": "execute_result"
                }
            ],
            "source": [
                "tt = model.forward(X[:,0:1])\n",
                "tt"
            ]
        },
        {
            "cell_type": "code",
            "execution_count": 9,
            "metadata": {},
            "outputs": [
                {
                    "data": {
                        "text/plain": [
                            "array([[0.],\n",
                            "       [0.],\n",
                            "       [0.],\n",
                            "       [0.],\n",
                            "       [0.],\n",
                            "       [0.],\n",
                            "       [0.],\n",
                            "       [0.],\n",
                            "       [1.],\n",
                            "       [0.]])"
                        ]
                    },
                    "execution_count": 9,
                    "metadata": {},
                    "output_type": "execute_result"
                }
            ],
            "source": [
                "yy = Y[:,0:1]\n",
                "yy"
            ]
        },
        {
            "cell_type": "code",
            "execution_count": 10,
            "metadata": {},
            "outputs": [
                {
                    "data": {
                        "text/plain": [
                            "-0.6931471805599453"
                        ]
                    },
                    "execution_count": 10,
                    "metadata": {},
                    "output_type": "execute_result"
                }
            ],
            "source": [
                "np.log(0.5)"
            ]
        },
        {
            "cell_type": "code",
            "execution_count": 11,
            "metadata": {},
            "outputs": [
                {
                    "data": {
                        "text/plain": [
                            "2.2828271020538233"
                        ]
                    },
                    "execution_count": 11,
                    "metadata": {},
                    "output_type": "execute_result"
                }
            ],
            "source": [
                "CategoricalCrossEntropy().forward(tt, Y[:,0:1])"
            ]
        },
        {
            "cell_type": "code",
            "execution_count": 12,
            "metadata": {},
            "outputs": [],
            "source": [
                "\n",
                "dataset = DataSet(\n",
                "    x = X,\n",
                "    y = Y,\n",
                "    batch_size=64\n",
                ")\n"
            ]
        },
        {
            "cell_type": "code",
            "execution_count": 13,
            "metadata": {},
            "outputs": [
                {
                    "name": "stdout",
                    "output_type": "stream",
                    "text": [
                        "(32, 1)\n",
                        "(10, 1)\n"
                    ]
                }
            ],
            "source": [
                "for i in model.get_bias():\n",
                "    print(i.shape)"
            ]
        },
        {
            "cell_type": "code",
            "execution_count": 14,
            "metadata": {},
            "outputs": [
                {
                    "name": "stdout",
                    "output_type": "stream",
                    "text": [
                        "0 cost 0.3594129577834666 iter 22\n",
                        "1 cost 0.22725011887208055 iter 43\n",
                        "2 cost 0.1367458518421654 iter 64\n",
                        "3 cost 0.08162869002355316 iter 85\n",
                        "4 cost 0.05267198451833701 iter 106\n",
                        "5 cost 0.03799566957994774 iter 127\n",
                        "6 cost 0.0297673160194393 iter 148\n",
                        "7 cost 0.024506127266722643 iter 169\n",
                        "8 cost 0.020800609331711212 iter 190\n",
                        "9 cost 0.018056601390129025 iter 211\n"
                    ]
                },
                {
                    "data": {
                        "text/plain": [
                            "[<matplotlib.lines.Line2D at 0x7fb031163a60>]"
                        ]
                    },
                    "execution_count": 14,
                    "metadata": {},
                    "output_type": "execute_result"
                },
                {
                    "data": {
                        "image/png": "[encoded data removed]",
                        "text/plain": [
                            "<Figure size 432x288 with 1 Axes>"
                        ]
                    },
                    "metadata": {
                        "needs_background": "light"
                    },
                    "output_type": "display_data"
                }
            ],
            "source": [
                "n_iter=5000\n",
                "model.train_dataset(dataset, show=1, n_epochs=10)\n",
                "plt.plot(model.cost)"
            ]
        },
        {
            "cell_type": "code",
            "execution_count": 15,
            "metadata": {},
            "outputs": [
                {
                    "data": {
                        "text/plain": [
                            "array([[1.44455803e-05],\n",
                            "       [9.91539294e-01],\n",
                            "       [7.27658702e-03],\n",
                            "       [1.65861752e-05],\n",
                            "       [1.01213765e-04],\n",
                            "       [5.83256829e-05],\n",
                            "       [8.39493367e-04],\n",
                            "       [1.41043315e-06],\n",
                            "       [1.42975659e-04],\n",
                            "       [9.66833520e-06]])"
                        ]
                    },
                    "execution_count": 15,
                    "metadata": {},
                    "output_type": "execute_result"
                }
            ],
            "source": [
                "model.forward(X[:,[453]])"
            ]
        },
        {
            "cell_type": "code",
            "execution_count": 16,
            "metadata": {},
            "outputs": [],
            "source": [
                "test_idx = np.random.choice(X.shape[1],16, replace=False)"
            ]
        },
        {
            "cell_type": "code",
            "execution_count": 17,
            "metadata": {},
            "outputs": [],
            "source": [
                "prob = model.forward(X[:,test_idx])\n",
                "pred = np.argmax(prob,axis=0)\n",
                "\n",
                "true_vals = np.argmax(Y[:,test_idx], axis=0)"
            ]
        },
        {
            "cell_type": "code",
            "execution_count": 18,
            "metadata": {},
            "outputs": [
                {
                    "data": {
                        "image/png": "[encoded data removed]",
                        "text/plain": [
                            "<Figure size 1080x1080 with 16 Axes>"
                        ]
                    },
                    "metadata": {
                        "needs_background": "light"
                    },
                    "output_type": "display_data"
                }
            ],
            "source": [
                "fig, axes = plt.subplots(4,4, figsize=(15,15))\n",
                "\n",
                "for i,(idx, ax) in enumerate(zip(test_idx, axes.flatten())):\n",
                "    ax.imshow(X[:,idx].reshape(8,8), cmap=plt.cm.gray_r, interpolation='nearest')\n",
                "    ax.set_title(f'Real: {true_vals[i]} / Pred: {pred[i]}')"
            ]
        },
        {
            "cell_type": "code",
            "execution_count": 19,
            "metadata": {},
            "outputs": [
                {
                    "data": {
                        "text/plain": [
                            "0.9962880475129918"
                        ]
                    },
                    "execution_count": 19,
                    "metadata": {},
                    "output_type": "execute_result"
                }
            ],
            "source": [
                "prob_total = model.forward(X)\n",
                "pred_total = np.argmax(prob_total,axis=0)\n",
                "true_vals_total = np.argmax(Y, axis=0)\n",
                "\n",
                "acc = Accuracy()\n",
                "acc.forward(prob_total, Y)"
            ]
        },
        {
            "cell_type": "code",
            "execution_count": 26,
            "metadata": {},
            "outputs": [
                {
                    "data": {
                        "text/plain": [
                            "array([1291,  748,  256,  480,  104,  555,  116,  319,  850,   44,  605,\n",
                            "        122,  992,   77,  698,  787,  457,  595,  958,  115,  649,  781,\n",
                            "        575, 1278,  715,  896,   15,  808,  198,  296,  793, 1209, 1090,\n",
                            "        720,   98, 1282,  482, 1157,  745,  378,  210,  108, 1013, 1021,\n",
                            "       1237, 1087,  458, 1321, 1328,  863,  528,  155, 1085,  329, 1091,\n",
                            "        561,   14,  993,  471,   52,  762, 1270,   67,  284, 1320])"
                        ]
                    },
                    "execution_count": 26,
                    "metadata": {},
                    "output_type": "execute_result"
                }
            ],
            "source": [
                "dataset.shuffle_index[0]"
            ]
        },
        {
            "cell_type": "code",
            "execution_count": 28,
            "metadata": {},
            "outputs": [
                {
                    "data": {
                        "text/plain": [
                            "[array([0, 1, 2, 3, 4, 5, 6]),\n",
                            " array([ 7,  8,  9, 10, 11, 12, 13]),\n",
                            " array([14, 15, 16, 17, 18, 19])]"
                        ]
                    },
                    "execution_count": 28,
                    "metadata": {},
                    "output_type": "execute_result"
                }
            ],
            "source": [
                "np.array_split(np.arange(20), 3)"
            ]
        }
    ],
    "metadata": {
        "interpreter": {
            "hash": "2db1ddcffc0b30cabbecd399d75190155ef7764caa4a299b94776b4505636003"
        },
        "kernelspec": {
            "display_name": "Python 3.8.11 64-bit ('gympy': conda)",
            "name": "python3"
        },
        "language_info": {
            "codemirror_mode": {
                "name": "ipython",
                "version": 3
            },
            "file_extension": ".py",
            "mimetype": "text/x-python",
            "name": "python",
            "nbconvert_exporter": "python",
            "pygments_lexer": "ipython3",
            "version": "3.8.11"
        },
        "orig_nbformat": 4
    },
    "nbformat": 4,
    "nbformat_minor": 2
}
