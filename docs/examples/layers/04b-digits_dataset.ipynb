{
    "cells": [
        {
            "cell_type": "code",
            "execution_count": 18,
            "source": [
                "## Digits"
            ],
            "outputs": [],
            "metadata": {}
        },
        {
            "cell_type": "code",
            "execution_count": 19,
            "source": [
                "from sklearn.datasets import load_digits\n",
                "import numpy as np\n",
                "import pandas as pd\n",
                "import matplotlib.pyplot as plt\n",
                "from sklearn.datasets import make_classification\n",
                "from gympy.layers import Linear, Relu, Sigmoid, Softmax, Tanh\n",
                "from gympy.networks import NeuralNetwork, DataSet\n",
                "from gympy.optimizers import SGD\n",
                "from gympy.loss import CategoricalCrossEntropy\n",
                "import seaborn as sns\n",
                "from sklearn.preprocessing import OneHotEncoder, StandardScaler\n",
                "from sklearn.model_selection import train_test_split\n"
            ],
            "outputs": [],
            "metadata": {}
        },
        {
            "cell_type": "code",
            "execution_count": 20,
            "source": [
                "digits = load_digits()"
            ],
            "outputs": [],
            "metadata": {}
        },
        {
            "cell_type": "code",
            "execution_count": 21,
            "source": [
                "X_train, X_test, y_train, y_test = train_test_split(digits.data, digits.target)\n",
                "X_train.shape"
            ],
            "outputs": [
                {
                    "output_type": "execute_result",
                    "data": {
                        "text/plain": [
                            "(1347, 64)"
                        ]
                    },
                    "metadata": {},
                    "execution_count": 21
                }
            ],
            "metadata": {}
        },
        {
            "cell_type": "code",
            "execution_count": 22,
            "source": [
                "Y = OneHotEncoder(sparse=False).fit_transform(y_train.reshape(-1,1)).T\n",
                "Y.shape"
            ],
            "outputs": [
                {
                    "output_type": "execute_result",
                    "data": {
                        "text/plain": [
                            "(10, 1347)"
                        ]
                    },
                    "metadata": {},
                    "execution_count": 22
                }
            ],
            "metadata": {}
        },
        {
            "cell_type": "code",
            "execution_count": 23,
            "source": [
                "X = StandardScaler().fit_transform(X_train).T\n",
                "print(X.shape)\n"
            ],
            "outputs": [
                {
                    "output_type": "stream",
                    "name": "stdout",
                    "text": [
                        "(64, 1347)\n"
                    ]
                }
            ],
            "metadata": {}
        },
        {
            "cell_type": "code",
            "execution_count": 24,
            "source": [
                "\n",
                "n_iter=390\n",
                "model = NeuralNetwork(\n",
                "    layers = [\n",
                "        Tanh(n_input=64, n_output=32, dropout_rate=0.0),\n",
                "        Softmax(n_input=32, n_output=10)\n",
                "    ],\n",
                "    optimizer = SGD(learning_rate=1e-2),\n",
                "    loss = CategoricalCrossEntropy(),\n",
                "    n_iter=n_iter\n",
                ")"
            ],
            "outputs": [],
            "metadata": {}
        },
        {
            "cell_type": "code",
            "execution_count": 25,
            "source": [
                "tt = model.forward(X[:,0:1])\n",
                "tt"
            ],
            "outputs": [
                {
                    "output_type": "execute_result",
                    "data": {
                        "text/plain": [
                            "array([[0.09903485],\n",
                            "       [0.10105271],\n",
                            "       [0.10096908],\n",
                            "       [0.09972262],\n",
                            "       [0.10186089],\n",
                            "       [0.09920397],\n",
                            "       [0.09912445],\n",
                            "       [0.10107376],\n",
                            "       [0.09876006],\n",
                            "       [0.09919762]])"
                        ]
                    },
                    "metadata": {},
                    "execution_count": 25
                }
            ],
            "metadata": {}
        },
        {
            "cell_type": "code",
            "execution_count": 26,
            "source": [
                "yy = Y[:,0:1]\n",
                "yy"
            ],
            "outputs": [
                {
                    "output_type": "execute_result",
                    "data": {
                        "text/plain": [
                            "array([[0.],\n",
                            "       [0.],\n",
                            "       [0.],\n",
                            "       [0.],\n",
                            "       [0.],\n",
                            "       [1.],\n",
                            "       [0.],\n",
                            "       [0.],\n",
                            "       [0.],\n",
                            "       [0.]])"
                        ]
                    },
                    "metadata": {},
                    "execution_count": 26
                }
            ],
            "metadata": {}
        },
        {
            "cell_type": "code",
            "execution_count": 27,
            "source": [
                "np.log(0.5)"
            ],
            "outputs": [
                {
                    "output_type": "execute_result",
                    "data": {
                        "text/plain": [
                            "-0.6931471805599453"
                        ]
                    },
                    "metadata": {},
                    "execution_count": 27
                }
            ],
            "metadata": {}
        },
        {
            "cell_type": "code",
            "execution_count": 28,
            "source": [
                "CategoricalCrossEntropy().forward(tt, Y[:,0:1])"
            ],
            "outputs": [
                {
                    "output_type": "execute_result",
                    "data": {
                        "text/plain": [
                            "2.3105772799889"
                        ]
                    },
                    "metadata": {},
                    "execution_count": 28
                }
            ],
            "metadata": {}
        },
        {
            "cell_type": "code",
            "execution_count": 29,
            "source": [
                "\n",
                "dataset = DataSet(\n",
                "    x = X,\n",
                "    y = Y,\n",
                "    batch_size=64\n",
                ")\n"
            ],
            "outputs": [],
            "metadata": {}
        },
        {
            "cell_type": "code",
            "execution_count": 30,
            "source": [
                "n_iter=5000\n",
                "model.train_dataset(dataset, show=100, n_epochs=500)\n",
                "plt.plot(model.cost)"
            ],
            "outputs": [
                {
                    "output_type": "stream",
                    "name": "stdout",
                    "text": [
                        "0 cost 2.3010718469315425\n",
                        "100 cost 0.24844448044724263\n",
                        "200 cost 0.07935202006678388\n",
                        "300 cost 0.04659438946520625\n",
                        "400 cost 0.03292373893037626\n"
                    ]
                },
                {
                    "output_type": "execute_result",
                    "data": {
                        "text/plain": [
                            "[<matplotlib.lines.Line2D at 0x7fe28293c9d0>]"
                        ]
                    },
                    "metadata": {},
                    "execution_count": 30
                },
                {
                    "output_type": "display_data",
                    "data": {
                        "image/png": "[encoded data removed]",
                        "text/plain": [
                            "<Figure size 432x288 with 1 Axes>"
                        ]
                    },
                    "metadata": {
                        "needs_background": "light"
                    }
                }
            ],
            "metadata": {}
        },
        {
            "cell_type": "code",
            "execution_count": 31,
            "source": [
                "model.forward(X[:,[453]])"
            ],
            "outputs": [
                {
                    "output_type": "execute_result",
                    "data": {
                        "text/plain": [
                            "array([[5.50950910e-05],\n",
                            "       [8.77018908e-01],\n",
                            "       [4.24443137e-04],\n",
                            "       [1.10253056e-05],\n",
                            "       [3.45963437e-02],\n",
                            "       [6.07023417e-05],\n",
                            "       [1.45183439e-03],\n",
                            "       [2.53335678e-03],\n",
                            "       [8.30035954e-02],\n",
                            "       [8.44696166e-04]])"
                        ]
                    },
                    "metadata": {},
                    "execution_count": 31
                }
            ],
            "metadata": {}
        },
        {
            "cell_type": "code",
            "execution_count": 32,
            "source": [
                "test_idx = np.random.choice(X.shape[1],16, replace=False)"
            ],
            "outputs": [],
            "metadata": {}
        },
        {
            "cell_type": "code",
            "execution_count": 33,
            "source": [
                "prob = model.forward(X[:,test_idx])\n",
                "pred = np.argmax(prob,axis=0)\n",
                "\n",
                "true_vals = np.argmax(Y[:,test_idx], axis=0)"
            ],
            "outputs": [],
            "metadata": {}
        },
        {
            "cell_type": "code",
            "execution_count": 34,
            "source": [
                "fig, axes = plt.subplots(4,4, figsize=(15,15))\n",
                "\n",
                "for i,(idx, ax) in enumerate(zip(test_idx, axes.flatten())):\n",
                "    ax.imshow(X[:,idx].reshape(8,8), cmap=plt.cm.gray_r, interpolation='nearest')\n",
                "    ax.set_title(f'Real: {true_vals[i]} / Pred: {pred[i]}')"
            ],
            "outputs": [
                {
                    "output_type": "display_data",
                    "data": {
                        "image/png": "[encoded data removed]",
                        "text/plain": [
                            "<Figure size 1080x1080 with 16 Axes>"
                        ]
                    },
                    "metadata": {
                        "needs_background": "light"
                    }
                }
            ],
            "metadata": {}
        },
        {
            "cell_type": "code",
            "execution_count": null,
            "source": [],
            "outputs": [],
            "metadata": {}
        }
    ],
    "metadata": {
        "orig_nbformat": 4,
        "language_info": {
            "name": "python",
            "version": "3.8.10",
            "mimetype": "text/x-python",
            "codemirror_mode": {
                "name": "ipython",
                "version": 3
            },
            "pygments_lexer": "ipython3",
            "nbconvert_exporter": "python",
            "file_extension": ".py"
        },
        "kernelspec": {
            "name": "python3",
            "display_name": "Python 3.8.10 64-bit ('gympy': conda)"
        },
        "interpreter": {
            "hash": "10a1b8923dad54afa7cf2eec9222fa5c3403966362abd08120ec5aed115b54bc"
        }
    },
    "nbformat": 4,
    "nbformat_minor": 2
}