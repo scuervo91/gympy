{
    "cells": [
        {
            "cell_type": "code",
            "execution_count": 1,
            "source": [
                "## Digits"
            ],
            "outputs": [],
            "metadata": {}
        },
        {
            "cell_type": "code",
            "execution_count": 2,
            "source": [
                "from sklearn.datasets import load_digits\n",
                "import numpy as np\n",
                "import pandas as pd\n",
                "import matplotlib.pyplot as plt\n",
                "from sklearn.datasets import make_classification\n",
                "from gympy.layers import Linear, Relu, Sigmoid, Softmax, Tanh\n",
                "from gympy.networks import NeuralNetwork, DataSet\n",
                "from gympy.optimizers import SGD\n",
                "from gympy.loss import CategoricalCrossEntropy, Accuracy\n",
                "import seaborn as sns\n",
                "from sklearn.preprocessing import OneHotEncoder, StandardScaler\n",
                "from sklearn.model_selection import train_test_split\n"
            ],
            "outputs": [],
            "metadata": {}
        },
        {
            "cell_type": "code",
            "execution_count": 3,
            "source": [
                "digits = load_digits()"
            ],
            "outputs": [],
            "metadata": {}
        },
        {
            "cell_type": "code",
            "execution_count": 4,
            "source": [
                "X_train, X_test, y_train, y_test = train_test_split(digits.data, digits.target)\n",
                "X_train.shape"
            ],
            "outputs": [
                {
                    "output_type": "execute_result",
                    "data": {
                        "text/plain": [
                            "(1347, 64)"
                        ]
                    },
                    "metadata": {},
                    "execution_count": 4
                }
            ],
            "metadata": {}
        },
        {
            "cell_type": "code",
            "execution_count": 5,
            "source": [
                "Y = OneHotEncoder(sparse=False).fit_transform(y_train.reshape(-1,1)).T\n",
                "Y.shape"
            ],
            "outputs": [
                {
                    "output_type": "execute_result",
                    "data": {
                        "text/plain": [
                            "(10, 1347)"
                        ]
                    },
                    "metadata": {},
                    "execution_count": 5
                }
            ],
            "metadata": {}
        },
        {
            "cell_type": "code",
            "execution_count": 6,
            "source": [
                "X = StandardScaler().fit_transform(X_train).T\n",
                "print(X.shape)\n"
            ],
            "outputs": [
                {
                    "output_type": "stream",
                    "name": "stdout",
                    "text": [
                        "(64, 1347)\n"
                    ]
                }
            ],
            "metadata": {}
        },
        {
            "cell_type": "code",
            "execution_count": 7,
            "source": [
                "\n",
                "n_iter=390\n",
                "model = NeuralNetwork(\n",
                "    layers = [\n",
                "        Tanh(n_input=64, n_output=32, dropout_rate=0.0),\n",
                "        Softmax(n_input=32, n_output=10)\n",
                "    ],\n",
                "    optimizer = SGD(learning_rate=1e-2),\n",
                "    loss = CategoricalCrossEntropy(),\n",
                "    n_iter=n_iter\n",
                ")"
            ],
            "outputs": [],
            "metadata": {}
        },
        {
            "cell_type": "code",
            "execution_count": 8,
            "source": [
                "tt = model.forward(X[:,0:1])\n",
                "tt"
            ],
            "outputs": [
                {
                    "output_type": "execute_result",
                    "data": {
                        "text/plain": [
                            "array([[0.09996316],\n",
                            "       [0.09935502],\n",
                            "       [0.10118808],\n",
                            "       [0.10112034],\n",
                            "       [0.10066465],\n",
                            "       [0.10055315],\n",
                            "       [0.10080911],\n",
                            "       [0.09890176],\n",
                            "       [0.09847556],\n",
                            "       [0.09896918]])"
                        ]
                    },
                    "metadata": {},
                    "execution_count": 8
                }
            ],
            "metadata": {}
        },
        {
            "cell_type": "code",
            "execution_count": 9,
            "source": [
                "yy = Y[:,0:1]\n",
                "yy"
            ],
            "outputs": [
                {
                    "output_type": "execute_result",
                    "data": {
                        "text/plain": [
                            "array([[0.],\n",
                            "       [1.],\n",
                            "       [0.],\n",
                            "       [0.],\n",
                            "       [0.],\n",
                            "       [0.],\n",
                            "       [0.],\n",
                            "       [0.],\n",
                            "       [0.],\n",
                            "       [0.]])"
                        ]
                    },
                    "metadata": {},
                    "execution_count": 9
                }
            ],
            "metadata": {}
        },
        {
            "cell_type": "code",
            "execution_count": 10,
            "source": [
                "np.log(0.5)"
            ],
            "outputs": [
                {
                    "output_type": "execute_result",
                    "data": {
                        "text/plain": [
                            "-0.6931471805599453"
                        ]
                    },
                    "metadata": {},
                    "execution_count": 10
                }
            ],
            "metadata": {}
        },
        {
            "cell_type": "code",
            "execution_count": 11,
            "source": [
                "CategoricalCrossEntropy().forward(tt, Y[:,0:1])"
            ],
            "outputs": [
                {
                    "output_type": "execute_result",
                    "data": {
                        "text/plain": [
                            "2.309055808413777"
                        ]
                    },
                    "metadata": {},
                    "execution_count": 11
                }
            ],
            "metadata": {}
        },
        {
            "cell_type": "code",
            "execution_count": 12,
            "source": [
                "\n",
                "dataset = DataSet(\n",
                "    x = X,\n",
                "    y = Y,\n",
                "    batch_size=64\n",
                ")\n"
            ],
            "outputs": [],
            "metadata": {}
        },
        {
            "cell_type": "code",
            "execution_count": 13,
            "source": [
                "n_iter=5000\n",
                "model.train_dataset(dataset, show=100, n_epochs=500)\n",
                "plt.plot(model.cost)"
            ],
            "outputs": [
                {
                    "output_type": "stream",
                    "name": "stdout",
                    "text": [
                        "<class 'gympy.optimizers.optimizers.SGD'>\n",
                        "0 cost 2.2993902895289917 iter 22\n",
                        "100 cost 0.31333424324999093 iter 2122\n",
                        "200 cost 0.15791018950697394 iter 4222\n",
                        "300 cost 0.10883380558552458 iter 6322\n",
                        "400 cost 0.0796699660485858 iter 8422\n"
                    ]
                },
                {
                    "output_type": "execute_result",
                    "data": {
                        "text/plain": [
                            "[<matplotlib.lines.Line2D at 0x7fbd9d8fd7c0>]"
                        ]
                    },
                    "metadata": {},
                    "execution_count": 13
                },
                {
                    "output_type": "display_data",
                    "data": {
                        "image/png": "[encoded data removed]",
                        "text/plain": [
                            "<Figure size 432x288 with 1 Axes>"
                        ]
                    },
                    "metadata": {
                        "needs_background": "light"
                    }
                }
            ],
            "metadata": {}
        },
        {
            "cell_type": "code",
            "execution_count": 14,
            "source": [
                "model.forward(X[:,[453]])"
            ],
            "outputs": [
                {
                    "output_type": "execute_result",
                    "data": {
                        "text/plain": [
                            "array([[2.85566770e-05],\n",
                            "       [4.31700635e-06],\n",
                            "       [1.04012502e-03],\n",
                            "       [9.90985868e-01],\n",
                            "       [1.18589060e-07],\n",
                            "       [1.73562382e-04],\n",
                            "       [2.27306576e-06],\n",
                            "       [1.48852945e-04],\n",
                            "       [2.19467063e-04],\n",
                            "       [7.39685880e-03]])"
                        ]
                    },
                    "metadata": {},
                    "execution_count": 14
                }
            ],
            "metadata": {}
        },
        {
            "cell_type": "code",
            "execution_count": 15,
            "source": [
                "test_idx = np.random.choice(X.shape[1],16, replace=False)"
            ],
            "outputs": [],
            "metadata": {}
        },
        {
            "cell_type": "code",
            "execution_count": 16,
            "source": [
                "prob = model.forward(X[:,test_idx])\n",
                "pred = np.argmax(prob,axis=0)\n",
                "\n",
                "true_vals = np.argmax(Y[:,test_idx], axis=0)"
            ],
            "outputs": [],
            "metadata": {}
        },
        {
            "cell_type": "code",
            "execution_count": 17,
            "source": [
                "fig, axes = plt.subplots(4,4, figsize=(15,15))\n",
                "\n",
                "for i,(idx, ax) in enumerate(zip(test_idx, axes.flatten())):\n",
                "    ax.imshow(X[:,idx].reshape(8,8), cmap=plt.cm.gray_r, interpolation='nearest')\n",
                "    ax.set_title(f'Real: {true_vals[i]} / Pred: {pred[i]}')"
            ],
            "outputs": [
                {
                    "output_type": "display_data",
                    "data": {
                        "image/png": "[encoded data removed]",
                        "text/plain": [
                            "<Figure size 1080x1080 with 16 Axes>"
                        ]
                    },
                    "metadata": {
                        "needs_background": "light"
                    }
                }
            ],
            "metadata": {}
        },
        {
            "cell_type": "code",
            "execution_count": 18,
            "source": [
                "prob_total = model.forward(X)\n",
                "pred_total = np.argmax(prob_total,axis=0)\n",
                "true_vals_total = np.argmax(Y, axis=0)\n",
                "\n",
                "acc = Accuracy()\n",
                "acc.forward(prob_total, Y)"
            ],
            "outputs": [
                {
                    "output_type": "execute_result",
                    "data": {
                        "text/plain": [
                            "0.9955456570155902"
                        ]
                    },
                    "metadata": {},
                    "execution_count": 18
                }
            ],
            "metadata": {}
        }
    ],
    "metadata": {
        "orig_nbformat": 4,
        "language_info": {
            "name": "python",
            "version": "3.8.10",
            "mimetype": "text/x-python",
            "codemirror_mode": {
                "name": "ipython",
                "version": 3
            },
            "pygments_lexer": "ipython3",
            "nbconvert_exporter": "python",
            "file_extension": ".py"
        },
        "kernelspec": {
            "name": "python3",
            "display_name": "Python 3.8.10 64-bit ('gympy': conda)"
        },
        "interpreter": {
            "hash": "10a1b8923dad54afa7cf2eec9222fa5c3403966362abd08120ec5aed115b54bc"
        }
    },
    "nbformat": 4,
    "nbformat_minor": 2
}