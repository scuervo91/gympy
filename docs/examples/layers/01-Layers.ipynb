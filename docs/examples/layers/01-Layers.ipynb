{
    "cells": [
        {
            "cell_type": "code",
            "execution_count": 1,
            "source": [
                "import numpy as np\n",
                "import matplotlib.pyplot as plt\n",
                "from sklearn.datasets import make_regression\n",
                "from gympy.layers import Linear, Relu, Sigmoid, relu, sigmoid, linear, tanh, Tanh, Softmax\n"
            ],
            "outputs": [],
            "metadata": {}
        },
        {
            "cell_type": "code",
            "execution_count": 2,
            "source": [
                "bias = np.zeros(5)\n",
                "x, y, w = make_regression(\n",
                "    n_samples=10,\n",
                "    n_features=3,\n",
                "    n_informative=3,\n",
                "    n_targets=5,\n",
                "    noise=20,\n",
                "    coef=True,\n",
                "    random_state=21,\n",
                "    bias=bias)\n",
                "\n",
                "print(f'x {x.shape}')\n",
                "print(f'y {y.shape}')\n",
                "print(f'w {w.shape}')\n",
                "print(f'b {bias.shape}')\n",
                "w\n"
            ],
            "outputs": [
                {
                    "output_type": "stream",
                    "name": "stdout",
                    "text": [
                        "x (10, 3)\n",
                        "y (10, 5)\n",
                        "w (3, 5)\n",
                        "b (5,)\n"
                    ]
                },
                {
                    "output_type": "execute_result",
                    "data": {
                        "text/plain": [
                            "array([[60.03692654, 89.83403386, 49.0032225 , 82.83181322, 85.88894712],\n",
                            "       [61.48247111, 65.27560732, 38.68164341, 41.03541786, 81.01575495],\n",
                            "       [78.84451436, 88.76554372, 69.8860789 , 45.43903076, 30.59151648]])"
                        ]
                    },
                    "metadata": {},
                    "execution_count": 2
                }
            ],
            "metadata": {}
        },
        {
            "cell_type": "code",
            "execution_count": 3,
            "source": [
                "z = np.matmul(w.T, x.T) + bias.reshape(-1, 1)\n",
                "z_relu = relu(z)\n",
                "z_sigmoid = sigmoid(z)\n",
                "z_tanh = tanh(z)"
            ],
            "outputs": [],
            "metadata": {}
        },
        {
            "cell_type": "code",
            "execution_count": 4,
            "source": [
                "bias.reshape(-1, 1)"
            ],
            "outputs": [
                {
                    "output_type": "execute_result",
                    "data": {
                        "text/plain": [
                            "array([[0.],\n",
                            "       [0.],\n",
                            "       [0.],\n",
                            "       [0.],\n",
                            "       [0.]])"
                        ]
                    },
                    "metadata": {},
                    "execution_count": 4
                }
            ],
            "metadata": {}
        },
        {
            "cell_type": "code",
            "execution_count": 5,
            "source": [
                "zlin = Linear(\n",
                "    n_input=3,\n",
                "    n_output=5,\n",
                "    weights=w.T,\n",
                "    bias=bias.reshape(-1,1)\n",
                ")\n",
                "zlin.forward(x.T) == z"
            ],
            "outputs": [
                {
                    "output_type": "execute_result",
                    "data": {
                        "text/plain": [
                            "array([[ True,  True,  True,  True,  True,  True,  True,  True,  True,\n",
                            "         True],\n",
                            "       [ True,  True,  True,  True,  True,  True,  True,  True,  True,\n",
                            "         True],\n",
                            "       [ True,  True,  True,  True,  True,  True,  True,  True,  True,\n",
                            "         True],\n",
                            "       [ True,  True,  True,  True,  True,  True,  True,  True,  True,\n",
                            "         True],\n",
                            "       [ True,  True,  True,  True,  True,  True,  True,  True,  True,\n",
                            "         True]])"
                        ]
                    },
                    "metadata": {},
                    "execution_count": 5
                }
            ],
            "metadata": {}
        },
        {
            "cell_type": "code",
            "execution_count": 6,
            "source": [
                "zrelu = Relu(\n",
                "    n_input=3,\n",
                "    n_output=5,\n",
                "    weights=w.T,\n",
                "    bias=bias.reshape(-1,1)\n",
                ")\n",
                "zrelu.forward(x.T) == z_relu"
            ],
            "outputs": [
                {
                    "output_type": "execute_result",
                    "data": {
                        "text/plain": [
                            "array([[ True,  True,  True,  True,  True,  True,  True,  True,  True,\n",
                            "         True],\n",
                            "       [ True,  True,  True,  True,  True,  True,  True,  True,  True,\n",
                            "         True],\n",
                            "       [ True,  True,  True,  True,  True,  True,  True,  True,  True,\n",
                            "         True],\n",
                            "       [ True,  True,  True,  True,  True,  True,  True,  True,  True,\n",
                            "         True],\n",
                            "       [ True,  True,  True,  True,  True,  True,  True,  True,  True,\n",
                            "         True]])"
                        ]
                    },
                    "metadata": {},
                    "execution_count": 6
                }
            ],
            "metadata": {}
        },
        {
            "cell_type": "code",
            "execution_count": 7,
            "source": [
                "zsig = Sigmoid(\n",
                "    n_input=3,\n",
                "    n_output=5,\n",
                "    weights=w.T,\n",
                "    bias=bias.reshape(-1,1)\n",
                ")\n",
                "zsig.forward(x.T) == z_sigmoid"
            ],
            "outputs": [
                {
                    "output_type": "execute_result",
                    "data": {
                        "text/plain": [
                            "array([[ True,  True,  True,  True,  True,  True,  True,  True,  True,\n",
                            "         True],\n",
                            "       [ True,  True,  True,  True,  True,  True,  True,  True,  True,\n",
                            "         True],\n",
                            "       [ True,  True,  True,  True,  True,  True,  True,  True,  True,\n",
                            "         True],\n",
                            "       [ True,  True,  True,  True,  True,  True,  True,  True,  True,\n",
                            "         True],\n",
                            "       [ True,  True,  True,  True,  True,  True,  True,  True,  True,\n",
                            "         True]])"
                        ]
                    },
                    "metadata": {},
                    "execution_count": 7
                }
            ],
            "metadata": {}
        },
        {
            "cell_type": "code",
            "execution_count": 8,
            "source": [
                "ztanh = Tanh(\n",
                "    n_input=3,\n",
                "    n_output=5,\n",
                "    weights=w.T,\n",
                "    bias=bias.reshape(-1,1)\n",
                ")\n",
                "ztanh.forward(x.T) == z_tanh"
            ],
            "outputs": [
                {
                    "output_type": "execute_result",
                    "data": {
                        "text/plain": [
                            "array([[ True,  True,  True,  True,  True,  True,  True,  True,  True,\n",
                            "         True],\n",
                            "       [ True,  True,  True,  True,  True,  True,  True,  True,  True,\n",
                            "         True],\n",
                            "       [ True,  True,  True,  True,  True,  True,  True,  True,  True,\n",
                            "         True],\n",
                            "       [ True,  True,  True,  True,  True,  True,  True,  True,  True,\n",
                            "         True],\n",
                            "       [ True,  True,  True,  True,  True,  True,  True,  True,  True,\n",
                            "         True]])"
                        ]
                    },
                    "metadata": {},
                    "execution_count": 8
                }
            ],
            "metadata": {}
        },
        {
            "cell_type": "code",
            "execution_count": 9,
            "source": [
                "zlin = Linear(\n",
                "    n_input=3,\n",
                "    n_output=5,\n",
                "    weights=w.T,\n",
                "    bias=bias.reshape(-1,1),\n",
                "    dropout_rate=0.5\n",
                ")\n",
                "dp = zlin.dropout_array()\n",
                "dp_arr = dp * zlin.forward(x.T[:,:5])"
            ],
            "outputs": [],
            "metadata": {}
        },
        {
            "cell_type": "code",
            "execution_count": 10,
            "source": [
                "from gympy.layers import softmax_derivative, softmax"
            ],
            "outputs": [],
            "metadata": {}
        },
        {
            "cell_type": "code",
            "execution_count": 14,
            "source": [
                " x = np.array([1, 2]).T\n",
                " softmax(x)"
            ],
            "outputs": [
                {
                    "output_type": "execute_result",
                    "data": {
                        "text/plain": [
                            "array([0.26894142, 0.73105858])"
                        ]
                    },
                    "metadata": {},
                    "execution_count": 14
                }
            ],
            "metadata": {}
        },
        {
            "cell_type": "code",
            "execution_count": 15,
            "source": [
                "softmax_derivative(x)"
            ],
            "outputs": [
                {
                    "output_type": "execute_result",
                    "data": {
                        "text/plain": [
                            "array([[ 0, -2],\n",
                            "       [-2, -2]])"
                        ]
                    },
                    "metadata": {},
                    "execution_count": 15
                }
            ],
            "metadata": {}
        },
        {
            "cell_type": "code",
            "execution_count": 12,
            "source": [
                "\n",
                "zsof = Softmax(\n",
                "    n_input=3,\n",
                "    n_output=5\n",
                ")\n",
                "\n",
                "zsof.forward(x.T[:,:5]).shape"
            ],
            "outputs": [
                {
                    "output_type": "error",
                    "ename": "IndexError",
                    "evalue": "too many indices for array: array is 1-dimensional, but 2 were indexed",
                    "traceback": [
                        "\u001b[0;31m---------------------------------------------------------------------------\u001b[0m",
                        "\u001b[0;31mIndexError\u001b[0m                                Traceback (most recent call last)",
                        "\u001b[0;32m/tmp/ipykernel_6319/1036225558.py\u001b[0m in \u001b[0;36m<module>\u001b[0;34m\u001b[0m\n\u001b[1;32m      4\u001b[0m )\n\u001b[1;32m      5\u001b[0m \u001b[0;34m\u001b[0m\u001b[0m\n\u001b[0;32m----> 6\u001b[0;31m \u001b[0mzsof\u001b[0m\u001b[0;34m.\u001b[0m\u001b[0mforward\u001b[0m\u001b[0;34m(\u001b[0m\u001b[0mx\u001b[0m\u001b[0;34m.\u001b[0m\u001b[0mT\u001b[0m\u001b[0;34m[\u001b[0m\u001b[0;34m:\u001b[0m\u001b[0;34m,\u001b[0m\u001b[0;34m:\u001b[0m\u001b[0;36m5\u001b[0m\u001b[0;34m]\u001b[0m\u001b[0;34m)\u001b[0m\u001b[0;34m.\u001b[0m\u001b[0mshape\u001b[0m\u001b[0;34m\u001b[0m\u001b[0;34m\u001b[0m\u001b[0m\n\u001b[0m",
                        "\u001b[0;31mIndexError\u001b[0m: too many indices for array: array is 1-dimensional, but 2 were indexed"
                    ]
                }
            ],
            "metadata": {}
        },
        {
            "cell_type": "code",
            "execution_count": null,
            "source": [
                "zsof.derivative()"
            ],
            "outputs": [],
            "metadata": {}
        },
        {
            "cell_type": "code",
            "execution_count": null,
            "source": [],
            "outputs": [],
            "metadata": {}
        }
    ],
    "metadata": {
        "orig_nbformat": 4,
        "language_info": {
            "name": "python",
            "version": "3.8.10",
            "mimetype": "text/x-python",
            "codemirror_mode": {
                "name": "ipython",
                "version": 3
            },
            "pygments_lexer": "ipython3",
            "nbconvert_exporter": "python",
            "file_extension": ".py"
        },
        "kernelspec": {
            "name": "python3",
            "display_name": "Python 3.8.10 64-bit ('gympy': conda)"
        },
        "interpreter": {
            "hash": "10a1b8923dad54afa7cf2eec9222fa5c3403966362abd08120ec5aed115b54bc"
        }
    },
    "nbformat": 4,
    "nbformat_minor": 2
}