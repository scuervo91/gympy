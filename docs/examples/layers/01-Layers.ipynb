{
    "cells": [
        {
            "cell_type": "code",
            "execution_count": 1,
            "metadata": {},
            "outputs": [],
            "source": [
                "import numpy as np\n",
                "import matplotlib.pyplot as plt\n",
                "from sklearn.datasets import make_regression\n",
                "from gympy.layers import Linear, Relu, Sigmoid, relu, sigmoid, linear, tanh, Tanh, Softmax\n"
            ]
        },
        {
            "cell_type": "code",
            "execution_count": 2,
            "metadata": {},
            "outputs": [
                {
                    "name": "stdout",
                    "output_type": "stream",
                    "text": [
                        "x (10, 3)\n",
                        "y (10, 5)\n",
                        "w (3, 5)\n",
                        "b (5,)\n"
                    ]
                },
                {
                    "data": {
                        "text/plain": [
                            "array([[60.03692654, 89.83403386, 49.0032225 , 82.83181322, 85.88894712],\n",
                            "       [61.48247111, 65.27560732, 38.68164341, 41.03541786, 81.01575495],\n",
                            "       [78.84451436, 88.76554372, 69.8860789 , 45.43903076, 30.59151648]])"
                        ]
                    },
                    "execution_count": 2,
                    "metadata": {},
                    "output_type": "execute_result"
                }
            ],
            "source": [
                "bias = np.zeros(5)\n",
                "x, y, w = make_regression(\n",
                "    n_samples=10,\n",
                "    n_features=3,\n",
                "    n_informative=3,\n",
                "    n_targets=5,\n",
                "    noise=20,\n",
                "    coef=True,\n",
                "    random_state=21,\n",
                "    bias=bias)\n",
                "\n",
                "print(f'x {x.shape}')\n",
                "print(f'y {y.shape}')\n",
                "print(f'w {w.shape}')\n",
                "print(f'b {bias.shape}')\n",
                "w\n"
            ]
        },
        {
            "cell_type": "code",
            "execution_count": 3,
            "metadata": {},
            "outputs": [
                {
                    "data": {
                        "text/plain": [
                            "array([[60.03692654, 89.83403386, 49.0032225 , 82.83181322, 85.88894712],\n",
                            "       [61.48247111, 65.27560732, 38.68164341, 41.03541786, 81.01575495],\n",
                            "       [78.84451436, 88.76554372, 69.8860789 , 45.43903076, 30.59151648]])"
                        ]
                    },
                    "execution_count": 3,
                    "metadata": {},
                    "output_type": "execute_result"
                }
            ],
            "source": [
                "w"
            ]
        },
        {
            "cell_type": "code",
            "execution_count": 4,
            "metadata": {},
            "outputs": [],
            "source": [
                "z = np.matmul(w.T, x.T) + bias.reshape(-1, 1)\n",
                "z_relu = relu(z)\n",
                "z_sigmoid = sigmoid(z)\n",
                "z_tanh = tanh(z)"
            ]
        },
        {
            "cell_type": "code",
            "execution_count": 5,
            "metadata": {},
            "outputs": [
                {
                    "data": {
                        "text/plain": [
                            "array([[112.22300951,   2.47639432,  79.50090154,   0.        ,\n",
                            "          0.        ,  72.26920311,   0.        ,   0.        ,\n",
                            "         62.20797899,  70.71686737],\n",
                            "       [104.66130818,   8.1659445 ,  75.82341292,   0.        ,\n",
                            "          0.        ,  79.09447162,   0.        ,   0.        ,\n",
                            "         65.62991159,  66.02578459],\n",
                            "       [ 76.89724587,   8.59819164,  58.94603243,   0.        ,\n",
                            "          0.        ,  65.34806593,   0.        ,   0.        ,\n",
                            "         59.38364187,  65.46452021],\n",
                            "       [ 40.45804426,   6.74675243,  28.2107279 ,   0.        ,\n",
                            "          0.        ,  35.99529163,   0.        ,   0.        ,\n",
                            "         23.3840756 ,  11.10847116],\n",
                            "       [ 92.48563624,   0.        ,  50.50897366,   0.        ,\n",
                            "          0.        ,  18.10970935,   0.        ,   0.        ,\n",
                            "          0.        ,   0.        ]])"
                        ]
                    },
                    "execution_count": 5,
                    "metadata": {},
                    "output_type": "execute_result"
                }
            ],
            "source": [
                "z_relu"
            ]
        },
        {
            "cell_type": "code",
            "execution_count": 6,
            "metadata": {},
            "outputs": [
                {
                    "data": {
                        "text/plain": [
                            "array([[0.],\n",
                            "       [0.],\n",
                            "       [0.],\n",
                            "       [0.],\n",
                            "       [0.]])"
                        ]
                    },
                    "execution_count": 6,
                    "metadata": {},
                    "output_type": "execute_result"
                }
            ],
            "source": [
                "bias.reshape(-1, 1)"
            ]
        },
        {
            "cell_type": "code",
            "execution_count": 7,
            "metadata": {},
            "outputs": [
                {
                    "data": {
                        "text/plain": [
                            "array([[ True,  True,  True,  True,  True,  True,  True,  True,  True,\n",
                            "         True],\n",
                            "       [ True,  True,  True,  True,  True,  True,  True,  True,  True,\n",
                            "         True],\n",
                            "       [ True,  True,  True,  True,  True,  True,  True,  True,  True,\n",
                            "         True],\n",
                            "       [ True,  True,  True,  True,  True,  True,  True,  True,  True,\n",
                            "         True],\n",
                            "       [ True,  True,  True,  True,  True,  True,  True,  True,  True,\n",
                            "         True]])"
                        ]
                    },
                    "execution_count": 7,
                    "metadata": {},
                    "output_type": "execute_result"
                }
            ],
            "source": [
                "zlin = Linear(\n",
                "    n_input=3,\n",
                "    n_output=5,\n",
                "    weights=w.T,\n",
                "    bias=bias.reshape(-1,1)\n",
                ")\n",
                "zlin.forward(x.T) == z"
            ]
        },
        {
            "cell_type": "code",
            "execution_count": null,
            "metadata": {},
            "outputs": [],
            "source": [
                "zrelu = Relu(\n",
                "    n_input=3,\n",
                "    n_output=5,\n",
                "    weights=w.T,\n",
                "    bias=bias.reshape(-1,1)\n",
                ")\n",
                "zrelu.forward(x.T) == z_relu"
            ]
        },
        {
            "cell_type": "code",
            "execution_count": null,
            "metadata": {},
            "outputs": [],
            "source": [
                "zsig = Sigmoid(\n",
                "    n_input=3,\n",
                "    n_output=5,\n",
                "    weights=w.T,\n",
                "    bias=bias.reshape(-1,1)\n",
                ")\n",
                "zsig.forward(x.T) == z_sigmoid"
            ]
        },
        {
            "cell_type": "code",
            "execution_count": null,
            "metadata": {},
            "outputs": [],
            "source": [
                "ztanh = Tanh(\n",
                "    n_input=3,\n",
                "    n_output=5,\n",
                "    weights=w.T,\n",
                "    bias=bias.reshape(-1,1)\n",
                ")\n",
                "ztanh.forward(x.T) == z_tanh"
            ]
        },
        {
            "cell_type": "code",
            "execution_count": null,
            "metadata": {},
            "outputs": [],
            "source": [
                "zlin = Linear(\n",
                "    n_input=3,\n",
                "    n_output=5,\n",
                "    weights=w.T,\n",
                "    bias=bias.reshape(-1,1),\n",
                "    dropout_rate=0.5\n",
                ")\n",
                "dp = zlin.dropout_array()\n",
                "dp_arr = dp * zlin.forward(x.T[:,:5])"
            ]
        },
        {
            "cell_type": "code",
            "execution_count": null,
            "metadata": {},
            "outputs": [],
            "source": [
                "from gympy.layers import softmax_derivative, softmax"
            ]
        },
        {
            "cell_type": "code",
            "execution_count": null,
            "metadata": {},
            "outputs": [],
            "source": [
                " x = np.array([1, 2]).T\n",
                " softmax(x)"
            ]
        },
        {
            "cell_type": "code",
            "execution_count": null,
            "metadata": {},
            "outputs": [],
            "source": [
                "softmax_derivative(x)"
            ]
        },
        {
            "cell_type": "code",
            "execution_count": null,
            "metadata": {},
            "outputs": [],
            "source": [
                "\n",
                "zsof = Softmax(\n",
                "    n_input=3,\n",
                "    n_output=5\n",
                ")\n",
                "\n",
                "zsof.forward(x.T[:,:5]).shape"
            ]
        },
        {
            "cell_type": "code",
            "execution_count": null,
            "metadata": {},
            "outputs": [],
            "source": [
                "zsof.derivative()"
            ]
        },
        {
            "cell_type": "code",
            "execution_count": null,
            "metadata": {},
            "outputs": [],
            "source": []
        }
    ],
    "metadata": {
        "interpreter": {
            "hash": "10a1b8923dad54afa7cf2eec9222fa5c3403966362abd08120ec5aed115b54bc"
        },
        "kernelspec": {
            "display_name": "Python 3.8.10 64-bit ('gympy': conda)",
            "name": "python3"
        },
        "language_info": {
            "codemirror_mode": {
                "name": "ipython",
                "version": 3
            },
            "file_extension": ".py",
            "mimetype": "text/x-python",
            "name": "python",
            "nbconvert_exporter": "python",
            "pygments_lexer": "ipython3",
            "version": "3.8.11"
        },
        "orig_nbformat": 4
    },
    "nbformat": 4,
    "nbformat_minor": 2
}
