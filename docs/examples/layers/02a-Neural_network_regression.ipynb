{
    "cells": [
        {
            "cell_type": "code",
            "execution_count": 1,
            "source": [
                "## Neural network"
            ],
            "outputs": [],
            "metadata": {}
        },
        {
            "cell_type": "code",
            "execution_count": 2,
            "source": [
                "import numpy as np\n",
                "import matplotlib.pyplot as plt\n",
                "from sklearn.datasets import make_regression\n",
                "from gympy.layers import Linear, Relu, Sigmoid, relu, sigmoid, linear, tanh, Tanh\n",
                "from gympy.networks import NeuralNetwork\n",
                "from gympy.optimizers import SGD\n",
                "from gympy.loss import MeanSquaredError"
            ],
            "outputs": [],
            "metadata": {}
        },
        {
            "cell_type": "code",
            "execution_count": 3,
            "source": [
                "bias = np.zeros(1)\n",
                "x, y, w = make_regression(\n",
                "    n_samples=100,\n",
                "    n_features=1,\n",
                "    n_informative=1,\n",
                "    n_targets=1,\n",
                "    noise=20,\n",
                "    coef=True,\n",
                "    random_state=21,\n",
                "    bias=bias)\n",
                "\n",
                "print(f'x {x.shape}')\n",
                "print(f'y {y.shape}')\n",
                "print(f'w {w.shape}')\n",
                "print(f'b {bias.shape}')\n",
                "w"
            ],
            "outputs": [
                {
                    "output_type": "stream",
                    "name": "stdout",
                    "text": [
                        "x (100, 1)\n",
                        "y (100,)\n",
                        "w ()\n",
                        "b (1,)\n"
                    ]
                },
                {
                    "output_type": "execute_result",
                    "data": {
                        "text/plain": [
                            "array(28.41432722)"
                        ]
                    },
                    "metadata": {},
                    "execution_count": 3
                }
            ],
            "metadata": {}
        },
        {
            "cell_type": "code",
            "execution_count": 4,
            "source": [
                "plt.scatter(x, y)"
            ],
            "outputs": [
                {
                    "output_type": "execute_result",
                    "data": {
                        "text/plain": [
                            "<matplotlib.collections.PathCollection at 0x7f9239cb8f70>"
                        ]
                    },
                    "metadata": {},
                    "execution_count": 4
                },
                {
                    "output_type": "display_data",
                    "data": {
                        "image/png": "[encoded data removed]",
                        "text/plain": [
                            "<Figure size 432x288 with 1 Axes>"
                        ]
                    },
                    "metadata": {
                        "needs_background": "light"
                    }
                }
            ],
            "metadata": {}
        },
        {
            "cell_type": "code",
            "execution_count": 5,
            "source": [
                "model = NeuralNetwork(\n",
                "    layers = [\n",
                "        Linear(\n",
                "            n_input = 1,\n",
                "            n_output = 1,\n",
                "        )\n",
                "    ],\n",
                "    optimizer = SGD(),\n",
                "    loss=MeanSquaredError()\n",
                ")"
            ],
            "outputs": [],
            "metadata": {}
        },
        {
            "cell_type": "code",
            "execution_count": 6,
            "source": [
                "y_model = model.forward(x.T)"
            ],
            "outputs": [],
            "metadata": {}
        },
        {
            "cell_type": "code",
            "execution_count": 7,
            "source": [
                "plt.plot(x.flatten(),y_model.flatten())\n",
                "plt.scatter(x, y)"
            ],
            "outputs": [
                {
                    "output_type": "execute_result",
                    "data": {
                        "text/plain": [
                            "<matplotlib.collections.PathCollection at 0x7f9237bc9fa0>"
                        ]
                    },
                    "metadata": {},
                    "execution_count": 7
                },
                {
                    "output_type": "display_data",
                    "data": {
                        "image/png": "[encoded data removed]",
                        "text/plain": [
                            "<Figure size 432x288 with 1 Axes>"
                        ]
                    },
                    "metadata": {
                        "needs_background": "light"
                    }
                }
            ],
            "metadata": {}
        },
        {
            "cell_type": "code",
            "execution_count": 8,
            "source": [
                "model.train(x.T, y.reshape(1,-1), n_epochs=1201, show=200)"
            ],
            "outputs": [
                {
                    "output_type": "stream",
                    "name": "stdout",
                    "text": [
                        "0 cost 1376.341721245402\n",
                        "200 cost 768.1022648789836\n",
                        "400 cost 525.4858126561712\n",
                        "600 cost 428.71020516627505\n",
                        "800 cost 390.1080488853092\n",
                        "1000 cost 374.7103003390582\n",
                        "1200 cost 368.5683983538968\n"
                    ]
                }
            ],
            "metadata": {}
        },
        {
            "cell_type": "code",
            "execution_count": 9,
            "source": [
                "y_model_fitted = model.forward(x.T)\n",
                "plt.plot(x.flatten(),y_model_fitted.flatten())\n",
                "plt.scatter(x, y)"
            ],
            "outputs": [
                {
                    "output_type": "execute_result",
                    "data": {
                        "text/plain": [
                            "<matplotlib.collections.PathCollection at 0x7f9237adc3a0>"
                        ]
                    },
                    "metadata": {},
                    "execution_count": 9
                },
                {
                    "output_type": "display_data",
                    "data": {
                        "image/png": "[encoded data removed]",
                        "text/plain": [
                            "<Figure size 432x288 with 1 Axes>"
                        ]
                    },
                    "metadata": {
                        "needs_background": "light"
                    }
                }
            ],
            "metadata": {}
        },
        {
            "cell_type": "code",
            "execution_count": null,
            "source": [],
            "outputs": [],
            "metadata": {}
        }
    ],
    "metadata": {
        "orig_nbformat": 4,
        "language_info": {
            "name": "python",
            "version": "3.8.10",
            "mimetype": "text/x-python",
            "codemirror_mode": {
                "name": "ipython",
                "version": 3
            },
            "pygments_lexer": "ipython3",
            "nbconvert_exporter": "python",
            "file_extension": ".py"
        },
        "kernelspec": {
            "name": "python3",
            "display_name": "Python 3.8.10 64-bit ('gympy': conda)"
        },
        "interpreter": {
            "hash": "10a1b8923dad54afa7cf2eec9222fa5c3403966362abd08120ec5aed115b54bc"
        }
    },
    "nbformat": 4,
    "nbformat_minor": 2
}