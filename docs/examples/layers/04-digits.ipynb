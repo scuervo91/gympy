{
    "cells": [
        {
            "cell_type": "code",
            "execution_count": 1,
            "source": [
                "## Digits"
            ],
            "outputs": [],
            "metadata": {}
        },
        {
            "cell_type": "code",
            "execution_count": 2,
            "source": [
                "from sklearn.datasets import load_digits\n",
                "import numpy as np\n",
                "import pandas as pd\n",
                "import matplotlib.pyplot as plt\n",
                "from sklearn.datasets import make_classification\n",
                "from gympy.layers import Linear, Relu, Sigmoid, relu, sigmoid, linear, tanh, Tanh\n",
                "from gympy.networks import NeuralNetwork\n",
                "from gympy.optimizers import GradientDescent\n",
                "from gympy.loss import log_cost\n",
                "import seaborn as sns\n",
                "from sklearn.preprocessing import OneHotEncoder, StandardScaler\n",
                "from sklearn.model_selection import train_test_split\n"
            ],
            "outputs": [],
            "metadata": {}
        },
        {
            "cell_type": "code",
            "execution_count": 3,
            "source": [
                "digits = load_digits()"
            ],
            "outputs": [],
            "metadata": {}
        },
        {
            "cell_type": "code",
            "execution_count": 4,
            "source": [
                "X_train, X_test, y_train, y_test = train_test_split(digits.data, digits.target)\n",
                "X_train.shape"
            ],
            "outputs": [
                {
                    "output_type": "execute_result",
                    "data": {
                        "text/plain": [
                            "(1347, 64)"
                        ]
                    },
                    "metadata": {},
                    "execution_count": 4
                }
            ],
            "metadata": {}
        },
        {
            "cell_type": "code",
            "execution_count": 5,
            "source": [
                "Y = OneHotEncoder(sparse=False).fit_transform(y_train.reshape(-1,1))\n",
                "Y"
            ],
            "outputs": [
                {
                    "output_type": "execute_result",
                    "data": {
                        "text/plain": [
                            "array([[0., 0., 0., ..., 0., 0., 1.],\n",
                            "       [0., 0., 0., ..., 0., 0., 0.],\n",
                            "       [0., 0., 0., ..., 0., 0., 1.],\n",
                            "       ...,\n",
                            "       [1., 0., 0., ..., 0., 0., 0.],\n",
                            "       [0., 0., 0., ..., 0., 1., 0.],\n",
                            "       [0., 0., 0., ..., 0., 0., 0.]])"
                        ]
                    },
                    "metadata": {},
                    "execution_count": 5
                }
            ],
            "metadata": {}
        },
        {
            "cell_type": "code",
            "execution_count": 6,
            "source": [
                "X = StandardScaler().fit_transform(X_train)\n",
                "X"
            ],
            "outputs": [
                {
                    "output_type": "execute_result",
                    "data": {
                        "text/plain": [
                            "array([[ 0.        , -0.34587613, -0.68615307, ...,  0.55587936,\n",
                            "        -0.50753099, -0.19801603],\n",
                            "       [ 0.        , -0.34587613, -1.10712697, ..., -1.14047201,\n",
                            "        -0.50753099, -0.19801603],\n",
                            "       [ 0.        , -0.34587613,  0.78725556, ..., -0.12266119,\n",
                            "        -0.50753099, -0.19801603],\n",
                            "       ...,\n",
                            "       [ 0.        , -0.34587613, -0.05469223, ...,  0.21660908,\n",
                            "        -0.50753099, -0.19801603],\n",
                            "       [ 0.        , -0.34587613, -0.47566612, ..., -0.6315666 ,\n",
                            "        -0.50753099, -0.19801603],\n",
                            "       [ 0.        , -0.34587613, -1.10712697, ..., -1.14047201,\n",
                            "        -0.50753099, -0.19801603]])"
                        ]
                    },
                    "metadata": {},
                    "execution_count": 6
                }
            ],
            "metadata": {}
        },
        {
            "cell_type": "code",
            "execution_count": 7,
            "source": [
                "model = NeuralNetwork(\n",
                "    layers = [\n",
                "        Linear(n_input=64, n_output=32),\n",
                "        Linear(n_input=32, n_output=16),\n",
                "        Sigmoid(n_input=16, n_output=10)\n",
                "    ],\n",
                "    optimizer = GradientDescent(learning_rate=1e-3),\n",
                "    cost_function=log_cost,\n",
                "    n_iter=1000\n",
                ")"
            ],
            "outputs": [],
            "metadata": {}
        },
        {
            "cell_type": "code",
            "execution_count": 8,
            "source": [
                "model.forward(X.T).shape"
            ],
            "outputs": [
                {
                    "output_type": "execute_result",
                    "data": {
                        "text/plain": [
                            "(10, 1347)"
                        ]
                    },
                    "metadata": {},
                    "execution_count": 8
                }
            ],
            "metadata": {}
        },
        {
            "cell_type": "code",
            "execution_count": null,
            "source": [],
            "outputs": [],
            "metadata": {}
        },
        {
            "cell_type": "code",
            "execution_count": 9,
            "source": [
                "model.train(X.T,Y.T, show=100)"
            ],
            "outputs": [
                {
                    "output_type": "stream",
                    "name": "stdout",
                    "text": [
                        "0 cost 6.933221964367729\n",
                        "100 cost 6.350527328030818\n",
                        "200 cost 5.868555012737012\n",
                        "300 cost 5.466496935588149\n",
                        "400 cost 5.128951765717329\n",
                        "500 cost 4.844203121571718\n",
                        "600 cost 4.603134428221838\n",
                        "700 cost 4.398517386485593\n",
                        "800 cost 4.224529672846582\n",
                        "900 cost 4.076418647815648\n"
                    ]
                }
            ],
            "metadata": {}
        },
        {
            "cell_type": "code",
            "execution_count": 10,
            "source": [
                "model.layers[0].grads_dw.shape"
            ],
            "outputs": [
                {
                    "output_type": "execute_result",
                    "data": {
                        "text/plain": [
                            "(32, 64)"
                        ]
                    },
                    "metadata": {},
                    "execution_count": 10
                }
            ],
            "metadata": {}
        },
        {
            "cell_type": "code",
            "execution_count": null,
            "source": [],
            "outputs": [],
            "metadata": {}
        }
    ],
    "metadata": {
        "orig_nbformat": 4,
        "language_info": {
            "name": "python",
            "version": "3.8.10",
            "mimetype": "text/x-python",
            "codemirror_mode": {
                "name": "ipython",
                "version": 3
            },
            "pygments_lexer": "ipython3",
            "nbconvert_exporter": "python",
            "file_extension": ".py"
        },
        "kernelspec": {
            "name": "python3",
            "display_name": "Python 3.8.10 64-bit ('gympy': conda)"
        },
        "interpreter": {
            "hash": "10a1b8923dad54afa7cf2eec9222fa5c3403966362abd08120ec5aed115b54bc"
        }
    },
    "nbformat": 4,
    "nbformat_minor": 2
}