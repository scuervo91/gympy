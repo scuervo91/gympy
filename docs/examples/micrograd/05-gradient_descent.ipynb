{
 "cells": [
  {
   "cell_type": "code",
   "execution_count": 20,
   "metadata": {},
   "outputs": [],
   "source": [
    "## Neurons"
   ]
  },
  {
   "cell_type": "code",
   "execution_count": 21,
   "metadata": {},
   "outputs": [],
   "source": [
    "from gympy.autograd import Neuron, Layer, MLP,Value\n",
    "from random import uniform\n",
    "import matplotlib.pyplot as plt"
   ]
  },
  {
   "cell_type": "code",
   "execution_count": 22,
   "metadata": {},
   "outputs": [
    {
     "data": {
      "text/plain": [
       "[1.0, -1.0, -1.0, 1.0]"
      ]
     },
     "execution_count": 22,
     "metadata": {},
     "output_type": "execute_result"
    }
   ],
   "source": [
    "xs =[\n",
    "    [2.0,3.0,-1.0],\n",
    "    [3.0,-1.0,0.5],\n",
    "    [0.5,1.0,1.0],\n",
    "    [1.0,1.0,-1.0]\n",
    "]\n",
    "\n",
    "#ys = [Value(i) for i in [1.0,-1.0,-1.0,1.0]]\n",
    "ys = [1.0,-1.0,-1.0,1.0]\n",
    "ys"
   ]
  },
  {
   "cell_type": "code",
   "execution_count": 23,
   "metadata": {},
   "outputs": [],
   "source": [
    "nn = MLP(3,[4,8,1],['relu','relu','tanh'])"
   ]
  },
  {
   "cell_type": "code",
   "execution_count": 24,
   "metadata": {},
   "outputs": [
    {
     "name": "stdout",
     "output_type": "stream",
     "text": [
      "0 Value(data=5.029820963603405)\n",
      "20 Value(data=4.583773326383625)\n",
      "40 Value(data=3.9092939793051134)\n",
      "60 Value(data=3.080752563716488)\n",
      "80 Value(data=2.4408465600954172)\n",
      "100 Value(data=1.9716136352636062)\n",
      "120 Value(data=1.576675177531865)\n",
      "140 Value(data=1.2601352413873528)\n",
      "160 Value(data=1.0338971991736328)\n",
      "180 Value(data=0.8590941279493591)\n",
      "200 Value(data=0.7230634346507663)\n",
      "220 Value(data=0.6170862642011726)\n",
      "240 Value(data=0.5392622404623659)\n",
      "260 Value(data=0.48290466145644195)\n",
      "280 Value(data=0.4352853162139537)\n",
      "300 Value(data=0.3945480633983607)\n",
      "320 Value(data=0.3595133464358651)\n",
      "340 Value(data=0.3290975807986436)\n",
      "360 Value(data=0.30229827169183876)\n",
      "380 Value(data=0.27906308387580964)\n",
      "400 Value(data=0.25833989656077133)\n",
      "420 Value(data=0.2402341731415309)\n",
      "440 Value(data=0.22390653187837414)\n",
      "460 Value(data=0.20949234740365105)\n",
      "480 Value(data=0.19699982986692022)\n",
      "500 Value(data=0.18583839581297107)\n",
      "520 Value(data=0.17559587391590017)\n",
      "540 Value(data=0.16628041998138782)\n",
      "560 Value(data=0.1577872177525966)\n",
      "580 Value(data=0.1500533495339328)\n",
      "600 Value(data=0.142885073959363)\n",
      "620 Value(data=0.13628463515664987)\n",
      "640 Value(data=0.130208102716109)\n",
      "660 Value(data=0.12461517475886405)\n",
      "680 Value(data=0.11938045976979886)\n",
      "700 Value(data=0.1145068335252617)\n",
      "720 Value(data=0.10998382683469071)\n",
      "740 Value(data=0.10575553735138271)\n",
      "760 Value(data=0.10180586575100134)\n",
      "780 Value(data=0.09810694967093041)\n",
      "800 Value(data=0.09463259093401598)\n",
      "820 Value(data=0.09136693447287322)\n",
      "840 Value(data=0.08829157787823597)\n",
      "860 Value(data=0.0853941454239098)\n",
      "880 Value(data=0.08265517083524235)\n",
      "900 Value(data=0.08009309433653451)\n",
      "920 Value(data=0.07764321510920648)\n",
      "940 Value(data=0.07532054928982325)\n",
      "960 Value(data=0.07312184437225175)\n",
      "980 Value(data=0.07103330708153043)\n"
     ]
    }
   ],
   "source": [
    "list_loss = []\n",
    "for i in range(1000):\n",
    "    ypred = [nn(j) for j in xs]\n",
    "    loss = sum((y2-y1)**2 for y1, y2 in zip(ypred,ys))\n",
    "    list_loss.append(loss.data)\n",
    "    nn.zero_grad()\n",
    "    \n",
    "    loss.backward()\n",
    "        \n",
    "    for p in nn.parameters():\n",
    "        p.data += -0.001 * p.grad\n",
    "    if i % 20 ==0:\n",
    "        print(i,loss)"
   ]
  },
  {
   "cell_type": "code",
   "execution_count": 25,
   "metadata": {},
   "outputs": [
    {
     "data": {
      "text/plain": [
       "[<matplotlib.lines.Line2D at 0x7fe6f99eaf70>]"
      ]
     },
     "execution_count": 25,
     "metadata": {},
     "output_type": "execute_result"
    },
    {
     "data": {
      "image/png": "[encoded data removed]",
      "text/plain": [
       "<Figure size 432x288 with 1 Axes>"
      ]
     },
     "metadata": {
      "needs_background": "light"
     },
     "output_type": "display_data"
    }
   ],
   "source": [
    "plt.plot(list_loss)"
   ]
  },
  {
   "cell_type": "code",
   "execution_count": 26,
   "metadata": {},
   "outputs": [
    {
     "data": {
      "text/plain": [
       "[Value(data=0.9993544332846274),\n",
       " Value(data=-0.832161216958856),\n",
       " Value(data=-0.832161216958856),\n",
       " Value(data=0.886817888740337)]"
      ]
     },
     "execution_count": 26,
     "metadata": {},
     "output_type": "execute_result"
    }
   ],
   "source": [
    "ypred"
   ]
  },
  {
   "cell_type": "code",
   "execution_count": null,
   "metadata": {},
   "outputs": [],
   "source": []
  }
 ],
 "metadata": {
  "kernelspec": {
   "display_name": "gympy",
   "language": "python",
   "name": "python3"
  },
  "language_info": {
   "codemirror_mode": {
    "name": "ipython",
    "version": 3
   },
   "file_extension": ".py",
   "mimetype": "text/x-python",
   "name": "python",
   "nbconvert_exporter": "python",
   "pygments_lexer": "ipython3",
   "version": "3.8.11"
  },
  "orig_nbformat": 4,
  "vscode": {
   "interpreter": {
    "hash": "6b1510ee8f2d33dbc1ff919b274e2f79c750a84b1c2aee7db15b91e460600623"
   }
  }
 },
 "nbformat": 4,
 "nbformat_minor": 2
}
